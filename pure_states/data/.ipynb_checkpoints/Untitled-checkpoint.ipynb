{
 "cells": [
  {
   "cell_type": "code",
   "execution_count": 1,
   "id": "170c47b1",
   "metadata": {},
   "outputs": [],
   "source": [
    "import h5py as h5"
   ]
  },
  {
   "cell_type": "code",
   "execution_count": 8,
   "id": "b552d5cf",
   "metadata": {},
   "outputs": [],
   "source": [
    "file = h5.File(\"DataStatesDim=10Lay=2.h5\",\"r\")"
   ]
  },
  {
   "cell_type": "code",
   "execution_count": 9,
   "id": "70caa6e4",
   "metadata": {},
   "outputs": [],
   "source": [
    "file.close()"
   ]
  },
  {
   "cell_type": "code",
   "execution_count": 10,
   "id": "17c8fbf6",
   "metadata": {},
   "outputs": [
    {
     "data": {
      "text/plain": [
       "<Closed HDF5 file>"
      ]
     },
     "execution_count": 10,
     "metadata": {},
     "output_type": "execute_result"
    }
   ],
   "source": [
    "file"
   ]
  },
  {
   "cell_type": "code",
   "execution_count": null,
   "id": "13cc8a10",
   "metadata": {},
   "outputs": [],
   "source": [
    "names = \"DataStatesDim=\"\n",
    "affix = \".h5\"\n",
    "for dim in range(3,11):\n",
    "    for lay in range(2,5):\n",
    "        file = h5.File( names + str( dim )+\"Lay=\"+str(lay)+affix, \"r\" )\n",
    "        data = file[\"infi\"][:,:]\n",
    "        file.close()"
   ]
  }
 ],
 "metadata": {
  "kernelspec": {
   "display_name": "Python 3 (ipykernel)",
   "language": "python",
   "name": "python3"
  },
  "language_info": {
   "codemirror_mode": {
    "name": "ipython",
    "version": 3
   },
   "file_extension": ".py",
   "mimetype": "text/x-python",
   "name": "python",
   "nbconvert_exporter": "python",
   "pygments_lexer": "ipython3",
   "version": "3.9.13"
  }
 },
 "nbformat": 4,
 "nbformat_minor": 5
}
