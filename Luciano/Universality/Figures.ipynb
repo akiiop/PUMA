{
 "cells": [
  {
   "cell_type": "code",
   "execution_count": 36,
   "metadata": {},
   "outputs": [],
   "source": [
    "import numpy as np\n",
    "import matplotlib.pyplot as plt\n",
    "from scipy.io import loadmat\n",
    "np.set_printoptions(linewidth=110)\n",
    "%matplotlib inline"
   ]
  },
  {
   "cell_type": "code",
   "execution_count": 31,
   "metadata": {},
   "outputs": [],
   "source": [
    "import numpy as np\n",
    "from scipy.io import loadmat\n",
    "Datos = loadmat('Datos_Matlab\\Data_Fig_1.mat')\n",
    "Datos = Datos['Data_Fig_1']\n",
    "Fid_D_layers = Datos[0][0] \n",
    "Fid_D_layers[Fid_D_layers==0] = np.finfo(float).eps\n",
    "Fid_Dplus1_layers = Datos[0][1]\n",
    "Fid_Dplus1_layers[Fid_Dplus1_layers==0] = np.finfo(float).eps"
   ]
  },
  {
   "cell_type": "code",
   "execution_count": 32,
   "metadata": {},
   "outputs": [],
   "source": []
  },
  {
   "cell_type": "code",
   "execution_count": null,
   "metadata": {},
   "outputs": [],
   "source": []
  }
 ],
 "metadata": {
  "kernelspec": {
   "display_name": "Python 3",
   "language": "python",
   "name": "python3"
  },
  "language_info": {
   "codemirror_mode": {
    "name": "ipython",
    "version": 3
   },
   "file_extension": ".py",
   "mimetype": "text/x-python",
   "name": "python",
   "nbconvert_exporter": "python",
   "pygments_lexer": "ipython3",
   "version": "3.7.4"
  }
 },
 "nbformat": 4,
 "nbformat_minor": 4
}
