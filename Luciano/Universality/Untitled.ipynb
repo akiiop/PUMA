{
 "cells": [
  {
   "cell_type": "code",
   "execution_count": 1,
   "metadata": {},
   "outputs": [],
   "source": [
    "import scipy.optimize as so\n",
    "import numpy as np\n",
    "import h5py as h5\n",
    "import scipy.linalg as la\n",
    "np.set_printoptions(linewidth=110)\n",
    "%matplotlib inline"
   ]
  },
  {
   "cell_type": "code",
   "execution_count": 2,
   "metadata": {},
   "outputs": [],
   "source": [
    "def UFid(U,V,Dim):\n",
    "#    return np.sum(abs(U-V)**2)\n",
    "    return abs(np.trace(np.matmul(U.conj().T,V))/Dim)**2"
   ]
  },
  {
   "cell_type": "code",
   "execution_count": 3,
   "metadata": {},
   "outputs": [],
   "source": [
    "def QuantumFourier(Dim): \n",
    "    pi=np.arccos(-1.)\n",
    "    x=np.array(range(Dim))\n",
    "    return np.exp( 1j*2*pi*np.reshape( np.kron(x,x), [Dim,Dim] )/Dim )/np.sqrt(Dim)"
   ]
  },
  {
   "cell_type": "code",
   "execution_count": 4,
   "metadata": {},
   "outputs": [],
   "source": [
    "def RandomUnitary(Dim):\n",
    "    return np.linalg.qr( np.random.randn(Dim,Dim)+1j*np.random.randn(Dim,Dim) )[0]"
   ]
  },
  {
   "cell_type": "code",
   "execution_count": 5,
   "metadata": {},
   "outputs": [],
   "source": [
    "def UFunction(Phase,N,F,Dim):\n",
    "    U=np.eye(Dim)\n",
    "    for k in range(N):\n",
    "        U= np.exp( 1j*np.append([0] ,Phase[k*(Dim-1):(k+1)*(Dim-1)] ) )[:,np.newaxis]*U\n",
    "        U=np.matmul(F,U)\n",
    "    return np.exp(1j*np.append( [0], Phase[N*(Dim-1):(N+1)*Dim-1]))[:,np.newaxis]*U"
   ]
  },
  {
   "cell_type": "code",
   "execution_count": 12,
   "metadata": {},
   "outputs": [],
   "source": [
    "def PUMIOpt(U,Dim,N,F,MC):\n",
    "    Seed = np.ones( (N+1)*(Dim-1) )\n",
    "    TargetOpt = lambda x: 1-UFid( U , UFunction( x , N , F , Dim ) , Dim )\n",
    "    argsmin = {\"method\": \"L-BFGS-B\"}\n",
    "    Funs = np.zeros(MC)\n",
    "    for k in range(MC):\n",
    "        Res=so.basinhopping(TargetOpt , Seed,minimizer_kwargs=argsmin,niter=100,niter_success=10,disp=False,T=1, stepsize=0.5*np.pi)\n",
    "        Funs[k] = Res.fun\n",
    "    return np.min(Funs)"
   ]
  },
  {
   "cell_type": "code",
   "execution_count": 7,
   "metadata": {},
   "outputs": [],
   "source": [
    "# MC = 1000\n",
    "# Dim = 3\n",
    "# file = h5.File(\"Data_D\"+str(Dim)+\".h5\",\"w\")\n",
    "# U = np.zeros([Dim,Dim,MC],dtype=complex)\n",
    "# for k in range(MC):\n",
    "#     U[:,:,k] = RandomUnitary(Dim)    \n",
    "# file[\"re\"] = np.real(U)\n",
    "# file[\"im\"] = np.imag(U)\n",
    "# file[\"MC\"] = [MC]\n",
    "# file[\"Dim\"] = [Dim]\n",
    "# file.close()"
   ]
  },
  {
   "cell_type": "code",
   "execution_count": 7,
   "metadata": {},
   "outputs": [],
   "source": [
    "def main(Name,Repe):\n",
    "\n",
    "    file = h5.File(Name,\"r\")\n",
    "    UU = file[\"re\"][:,:,:]+1j*file[\"im\"][:,:,:]\n",
    "    MC = file[\"MC\"][0]\n",
    "    Dim = file[\"Dim\"][0]\n",
    "    file.close()\n",
    "    \n",
    "    N = Dim \n",
    "    F = QuantumFourier(Dim)\n",
    "    Data = np.zeros(MC)\n",
    "    \n",
    "    for i in range(MC):\n",
    "        Data[i] = PUMIOpt(UU[:,:,i], Dim, N, F, Repe)\n",
    "    \n",
    "    Indx1 = np.where(Data>10**(-9))\n",
    "    Indx2 = np.where(Data<10**(-9))\n",
    "\n",
    "    file = h5.File(Name,\"w\")\n",
    "    file[\"Infidelity\"] = Data\n",
    "    file[\"Index1\"] = Indx1[0]\n",
    "    file[\"Index2\"] = Indx2[0]\n",
    "    file.close()\n",
    "    "
   ]
  },
  {
   "cell_type": "code",
   "execution_count": 8,
   "metadata": {},
   "outputs": [
    {
     "data": {
      "text/plain": [
       "array([[ 0.23884392+0.97105797j,  0.        +0.j        ,  0.        +0.j        ],\n",
       "       [ 0.        +0.j        , -0.04239556+0.70587667j,  0.50548216+0.49439714j],\n",
       "       [ 0.        +0.j        , -0.27182898-0.65272487j,  0.671314  +0.22225383j]])"
      ]
     },
     "execution_count": 8,
     "metadata": {},
     "output_type": "execute_result"
    }
   ],
   "source": [
    "from scipy.io import loadmat\n",
    "contraejemplos = loadmat('Datos_Matlab\\Peores_Matrices.mat')\n",
    "contraejemplos = contraejemplos['Peores_Matrices']\n",
    "\n",
    "contraejemplos[0][0]"
   ]
  },
  {
   "cell_type": "code",
   "execution_count": 14,
   "metadata": {},
   "outputs": [
    {
     "name": "stdout",
     "output_type": "stream",
     "text": [
      "0.04969938835048471 1.0258460747536446e-13\n",
      "0.10563868125212017 2.050315472956754e-11\n",
      "0.0035309624729135125 4.208569048813615e-10\n",
      "1.0595162980298056e-07 1.5423744503806347e-09\n",
      "7.351038888714356e-08 2.590361258825169e-09\n",
      "2.3591773101738767e-07 3.814607518748403e-09\n",
      "1.396119597707468e-07 9.67771041082699e-09\n",
      "4.814659903318308e-06 2.3736754006797867e-08\n"
     ]
    }
   ],
   "source": [
    "for k in range(8):\n",
    "    Dim = k+3\n",
    "    F = QuantumFourier(Dim)\n",
    "    u = contraejemplos[0][k]\n",
    "    a = PUMIOpt(u,Dim,Dim,F,10)\n",
    "    b = PUMIOpt(u,Dim,Dim+1,F,10)\n",
    "    print(Dim,a,b)"
   ]
  },
  {
   "cell_type": "code",
   "execution_count": 11,
   "metadata": {},
   "outputs": [
    {
     "name": "stdout",
     "output_type": "stream",
     "text": [
      "3.9253158434782165e-06\n"
     ]
    }
   ],
   "source": [
    "for k in range(7,8):\n",
    "    Dim = k+3\n",
    "    F = QuantumFourier(Dim)\n",
    "    u = contraejemplos[0][k]\n",
    "    a = PUMIOpt(u,Dim,Dim,F,20)\n",
    "    #b = PUMIOpt(u,Dim,Dim+1,F,10)\n",
    "    print(a)"
   ]
  },
  {
   "cell_type": "code",
   "execution_count": null,
   "metadata": {},
   "outputs": [],
   "source": [
    "9.570259848934448e-06"
   ]
  },
  {
   "cell_type": "code",
   "execution_count": 13,
   "metadata": {},
   "outputs": [
    {
     "name": "stdout",
     "output_type": "stream",
     "text": [
      "0.049699388350453955 8.066880496926387e-13\n",
      "0.10563868122752851 9.890421814873207e-11\n",
      "0.003530962665704629 4.4538017718309675e-10\n",
      "1.312836576117249e-07 1.5249734808264748e-09\n",
      "5.153865112461631e-08 1.8159294068453846e-09\n",
      "1.9067128764760355e-07 8.13974687652319e-09\n",
      "8.44460623872223e-07 1.1704057500949716e-08\n",
      "4.673313438563476e-06 1.6192011176308085e-08\n"
     ]
    }
   ],
   "source": [
    "for k in range(8):\n",
    "    Dim = k+3\n",
    "    F = QuantumFourier(Dim)\n",
    "    u = contraejemplos[0][k]\n",
    "    a = PUMIOpt(u,Dim,Dim,F,10)\n",
    "    b = PUMIOpt(u,Dim,Dim+1,F,10)\n",
    "    \n",
    "    print(a,b)"
   ]
  },
  {
   "cell_type": "code",
   "execution_count": null,
   "metadata": {},
   "outputs": [],
   "source": []
  },
  {
   "cell_type": "code",
   "execution_count": null,
   "metadata": {},
   "outputs": [],
   "source": []
  },
  {
   "cell_type": "code",
   "execution_count": 47,
   "metadata": {},
   "outputs": [
    {
     "ename": "KeyError",
     "evalue": "\"Unable to open object (object 're' doesn't exist)\"",
     "output_type": "error",
     "traceback": [
      "\u001b[1;31m---------------------------------------------------------------------------\u001b[0m",
      "\u001b[1;31mKeyError\u001b[0m                                  Traceback (most recent call last)",
      "\u001b[1;32m<ipython-input-47-77a06caea33b>\u001b[0m in \u001b[0;36m<module>\u001b[1;34m\u001b[0m\n\u001b[0;32m      1\u001b[0m \u001b[0mfile\u001b[0m \u001b[1;33m=\u001b[0m \u001b[0mh5\u001b[0m\u001b[1;33m.\u001b[0m\u001b[0mFile\u001b[0m\u001b[1;33m(\u001b[0m\u001b[1;34m\"Data_D3.h5\"\u001b[0m\u001b[1;33m,\u001b[0m\u001b[1;34m\"r\"\u001b[0m\u001b[1;33m)\u001b[0m\u001b[1;33m\u001b[0m\u001b[1;33m\u001b[0m\u001b[0m\n\u001b[1;32m----> 2\u001b[1;33m \u001b[0mUU\u001b[0m \u001b[1;33m=\u001b[0m \u001b[0mfile\u001b[0m\u001b[1;33m[\u001b[0m\u001b[1;34m\"re\"\u001b[0m\u001b[1;33m]\u001b[0m\u001b[1;33m[\u001b[0m\u001b[1;33m:\u001b[0m\u001b[1;33m,\u001b[0m\u001b[1;33m:\u001b[0m\u001b[1;33m,\u001b[0m\u001b[1;33m:\u001b[0m\u001b[1;33m]\u001b[0m\u001b[1;33m+\u001b[0m\u001b[1;36m1j\u001b[0m\u001b[1;33m*\u001b[0m\u001b[0mfile\u001b[0m\u001b[1;33m[\u001b[0m\u001b[1;34m\"im\"\u001b[0m\u001b[1;33m]\u001b[0m\u001b[1;33m[\u001b[0m\u001b[1;33m:\u001b[0m\u001b[1;33m,\u001b[0m\u001b[1;33m:\u001b[0m\u001b[1;33m,\u001b[0m\u001b[1;33m:\u001b[0m\u001b[1;33m]\u001b[0m\u001b[1;33m\u001b[0m\u001b[1;33m\u001b[0m\u001b[0m\n\u001b[0m\u001b[0;32m      3\u001b[0m \u001b[0mIndx1\u001b[0m \u001b[1;33m=\u001b[0m \u001b[0mfile\u001b[0m\u001b[1;33m[\u001b[0m\u001b[1;34m\"Index1\"\u001b[0m\u001b[1;33m]\u001b[0m\u001b[1;33m[\u001b[0m\u001b[1;33m:\u001b[0m\u001b[1;33m]\u001b[0m\u001b[1;33m\u001b[0m\u001b[1;33m\u001b[0m\u001b[0m\n\u001b[0;32m      4\u001b[0m \u001b[0mIndx2\u001b[0m \u001b[1;33m=\u001b[0m \u001b[0mfile\u001b[0m\u001b[1;33m[\u001b[0m\u001b[1;34m\"Index2\"\u001b[0m\u001b[1;33m]\u001b[0m\u001b[1;33m[\u001b[0m\u001b[1;33m:\u001b[0m\u001b[1;33m]\u001b[0m\u001b[1;33m\u001b[0m\u001b[1;33m\u001b[0m\u001b[0m\n\u001b[0;32m      5\u001b[0m \u001b[0mfile\u001b[0m\u001b[1;33m.\u001b[0m\u001b[0mclose\u001b[0m\u001b[1;33m(\u001b[0m\u001b[1;33m)\u001b[0m\u001b[1;33m\u001b[0m\u001b[1;33m\u001b[0m\u001b[0m\n",
      "\u001b[1;32mh5py\\_objects.pyx\u001b[0m in \u001b[0;36mh5py._objects.with_phil.wrapper\u001b[1;34m()\u001b[0m\n",
      "\u001b[1;32mh5py\\_objects.pyx\u001b[0m in \u001b[0;36mh5py._objects.with_phil.wrapper\u001b[1;34m()\u001b[0m\n",
      "\u001b[1;32m~\\Anaconda3\\lib\\site-packages\\h5py\\_hl\\group.py\u001b[0m in \u001b[0;36m__getitem__\u001b[1;34m(self, name)\u001b[0m\n\u001b[0;32m    260\u001b[0m                 \u001b[1;32mraise\u001b[0m \u001b[0mValueError\u001b[0m\u001b[1;33m(\u001b[0m\u001b[1;34m\"Invalid HDF5 object reference\"\u001b[0m\u001b[1;33m)\u001b[0m\u001b[1;33m\u001b[0m\u001b[1;33m\u001b[0m\u001b[0m\n\u001b[0;32m    261\u001b[0m         \u001b[1;32melse\u001b[0m\u001b[1;33m:\u001b[0m\u001b[1;33m\u001b[0m\u001b[1;33m\u001b[0m\u001b[0m\n\u001b[1;32m--> 262\u001b[1;33m             \u001b[0moid\u001b[0m \u001b[1;33m=\u001b[0m \u001b[0mh5o\u001b[0m\u001b[1;33m.\u001b[0m\u001b[0mopen\u001b[0m\u001b[1;33m(\u001b[0m\u001b[0mself\u001b[0m\u001b[1;33m.\u001b[0m\u001b[0mid\u001b[0m\u001b[1;33m,\u001b[0m \u001b[0mself\u001b[0m\u001b[1;33m.\u001b[0m\u001b[0m_e\u001b[0m\u001b[1;33m(\u001b[0m\u001b[0mname\u001b[0m\u001b[1;33m)\u001b[0m\u001b[1;33m,\u001b[0m \u001b[0mlapl\u001b[0m\u001b[1;33m=\u001b[0m\u001b[0mself\u001b[0m\u001b[1;33m.\u001b[0m\u001b[0m_lapl\u001b[0m\u001b[1;33m)\u001b[0m\u001b[1;33m\u001b[0m\u001b[1;33m\u001b[0m\u001b[0m\n\u001b[0m\u001b[0;32m    263\u001b[0m \u001b[1;33m\u001b[0m\u001b[0m\n\u001b[0;32m    264\u001b[0m         \u001b[0motype\u001b[0m \u001b[1;33m=\u001b[0m \u001b[0mh5i\u001b[0m\u001b[1;33m.\u001b[0m\u001b[0mget_type\u001b[0m\u001b[1;33m(\u001b[0m\u001b[0moid\u001b[0m\u001b[1;33m)\u001b[0m\u001b[1;33m\u001b[0m\u001b[1;33m\u001b[0m\u001b[0m\n",
      "\u001b[1;32mh5py\\_objects.pyx\u001b[0m in \u001b[0;36mh5py._objects.with_phil.wrapper\u001b[1;34m()\u001b[0m\n",
      "\u001b[1;32mh5py\\_objects.pyx\u001b[0m in \u001b[0;36mh5py._objects.with_phil.wrapper\u001b[1;34m()\u001b[0m\n",
      "\u001b[1;32mh5py\\h5o.pyx\u001b[0m in \u001b[0;36mh5py.h5o.open\u001b[1;34m()\u001b[0m\n",
      "\u001b[1;31mKeyError\u001b[0m: \"Unable to open object (object 're' doesn't exist)\""
     ]
    }
   ],
   "source": [
    "file = h5.File(\"Data_D3.h5\",\"r\")\n",
    "UU = file[\"re\"][:,:,:]+1j*file[\"im\"][:,:,:]\n",
    "Indx1 = file[\"Index1\"][:]\n",
    "Indx2 = file[\"Index2\"][:]\n",
    "file.close()"
   ]
  },
  {
   "cell_type": "code",
   "execution_count": 51,
   "metadata": {},
   "outputs": [],
   "source": [
    "len(Indx1)"
   ]
  },
  {
   "cell_type": "code",
   "execution_count": 35,
   "metadata": {},
   "outputs": [
    {
     "data": {
      "text/plain": [
       "848"
      ]
     },
     "execution_count": 35,
     "metadata": {},
     "output_type": "execute_result"
    }
   ],
   "source": [
    "len(Indx2)"
   ]
  },
  {
   "cell_type": "code",
   "execution_count": 76,
   "metadata": {},
   "outputs": [],
   "source": [
    "Dim = 10\n",
    "N = Dim\n",
    "F = QuantumFourier(Dim)\n",
    "u = la.block_diag(RandomUnitary(int(Dim/2)),RandomUnitary(int(Dim/2)))\n",
    "#u = RandomUnitary(Dim)"
   ]
  },
  {
   "cell_type": "code",
   "execution_count": 16,
   "metadata": {},
   "outputs": [
    {
     "name": "stdout",
     "output_type": "stream",
     "text": [
      "[[-0.13420407-0.67380011j  0.12810513-0.45898462j -0.29031841+0.22075578j  0.11982682-0.18992923j\n",
      "   0.32304828+0.11443431j  0.        +0.j          0.        +0.j          0.        +0.j\n",
      "   0.        +0.j          0.        +0.j        ]\n",
      " [-0.04557613-0.38588869j -0.38743946+0.13390392j -0.33601173-0.61624735j -0.06505159+0.04962541j\n",
      "  -0.16885881-0.39128095j  0.        +0.j          0.        +0.j          0.        +0.j\n",
      "   0.        +0.j          0.        +0.j        ]\n",
      " [ 0.34089718+0.35506785j -0.48034116-0.03907953j -0.40104313+0.08663653j  0.16443967-0.53342133j\n",
      "   0.18567303+0.10519704j  0.        +0.j          0.        +0.j          0.        +0.j\n",
      "   0.        +0.j          0.        +0.j        ]\n",
      " [ 0.23322838+0.22129383j  0.12436423-0.58229147j -0.29829863+0.14641695j -0.46092854+0.16416027j\n",
      "  -0.30840232-0.31171789j  0.        +0.j          0.        +0.j          0.        +0.j\n",
      "   0.        +0.j          0.        +0.j        ]\n",
      " [ 0.06760227-0.16363021j  0.11388075-0.07161783j  0.28524302+0.11913177j  0.34470291-0.52256244j\n",
      "  -0.62447887-0.27043619j  0.        +0.j          0.        +0.j          0.        +0.j\n",
      "   0.        +0.j          0.        +0.j        ]\n",
      " [ 0.        +0.j          0.        +0.j          0.        +0.j          0.        +0.j\n",
      "   0.        +0.j         -0.2493438 -0.31544888j  0.31292143-0.52267004j -0.00920539-0.52997933j\n",
      "  -0.0362966 -0.40662722j  0.10297173-0.09479839j]\n",
      " [ 0.        +0.j          0.        +0.j          0.        +0.j          0.        +0.j\n",
      "   0.        +0.j         -0.15216367-0.34213379j -0.36860442+0.46799107j -0.03987246-0.45366304j\n",
      "   0.07391493-0.12095458j -0.42640406+0.30917958j]\n",
      " [ 0.        +0.j          0.        +0.j          0.        +0.j          0.        +0.j\n",
      "   0.        +0.j          0.27032671+0.07922512j -0.06456428-0.3710685j  -0.3559674 +0.17650112j\n",
      "   0.58526418-0.22304339j -0.18007576+0.44295738j]\n",
      " [ 0.        +0.j          0.        +0.j          0.        +0.j          0.        +0.j\n",
      "   0.        +0.j          0.4481849 +0.23913881j -0.23445703+0.13145611j -0.18522836-0.55471296j\n",
      "   0.12561384+0.06367556j  0.54921202-0.07879624j]\n",
      " [ 0.        +0.j          0.        +0.j          0.        +0.j          0.        +0.j\n",
      "   0.        +0.j          0.57004349+0.18907816j  0.24457117-0.00922513j -0.0224299 -0.10607856j\n",
      "  -0.58643948-0.23919914j -0.36863602+0.17499693j]]\n"
     ]
    }
   ],
   "source": [
    "print(u)"
   ]
  },
  {
   "cell_type": "code",
   "execution_count": 80,
   "metadata": {},
   "outputs": [
    {
     "name": "stdout",
     "output_type": "stream",
     "text": [
      "Wall time: 36.9 s\n"
     ]
    },
    {
     "data": {
      "text/plain": [
       "3.0761140374813145e-05"
      ]
     },
     "execution_count": 80,
     "metadata": {},
     "output_type": "execute_result"
    }
   ],
   "source": [
    "%%time\n",
    "PUMIOpt(u,Dim,N,F,1)"
   ]
  },
  {
   "cell_type": "code",
   "execution_count": 14,
   "metadata": {},
   "outputs": [
    {
     "data": {
      "text/plain": [
       "5"
      ]
     },
     "execution_count": 14,
     "metadata": {},
     "output_type": "execute_result"
    }
   ],
   "source": [
    "int(Dim/2)"
   ]
  },
  {
   "cell_type": "code",
   "execution_count": 22,
   "metadata": {},
   "outputs": [
    {
     "data": {
      "text/plain": [
       "250.0"
      ]
     },
     "execution_count": 22,
     "metadata": {},
     "output_type": "execute_result"
    }
   ],
   "source": [
    "15*1000/60"
   ]
  },
  {
   "cell_type": "code",
   "execution_count": 17,
   "metadata": {},
   "outputs": [],
   "source": [
    "from scipy.io import loadmat\n",
    "contraejemplos = loadmat('contraejemplos.mat')\n",
    "contraejemplos = contraejemplos['contraejemplos']"
   ]
  },
  {
   "cell_type": "code",
   "execution_count": 36,
   "metadata": {},
   "outputs": [],
   "source": [
    "\n",
    "for l in range(2,10):\n",
    "    for k in range(8):\n",
    "        dim = 3+k\n",
    "        U = contraejemplos[k,0]\n",
    "        Fids[0,k,l]=PUMIOpt(U,dim,dim,QuantumFourier(dim),1)\n",
    "        Fids[1,k,l]=PUMIOpt(U,dim,dim+1,QuantumFourier(dim),1)\n",
    "   "
   ]
  },
  {
   "cell_type": "code",
   "execution_count": 47,
   "metadata": {},
   "outputs": [
    {
     "name": "stdout",
     "output_type": "stream",
     "text": [
      "0.049560046670114155\n",
      "0.04000620037681535\n",
      "9.260274263944712e-05\n",
      "4.2568404312604e-07\n",
      "5.86615982789418e-07\n",
      "7.220394748763681e-08\n",
      "4.6669880293670474e-07\n",
      "4.604928143470133e-06\n"
     ]
    }
   ],
   "source": [
    "for k in range(8):\n",
    "    print(np.min(Fids[0,k,:]))"
   ]
  },
  {
   "cell_type": "code",
   "execution_count": 48,
   "metadata": {},
   "outputs": [
    {
     "name": "stdout",
     "output_type": "stream",
     "text": [
      "5.031530747601209e-13\n",
      "6.069100777494896e-11\n",
      "5.097331445824693e-10\n",
      "8.573468601724699e-10\n",
      "3.0491704716695267e-09\n",
      "4.097321371077101e-09\n",
      "9.249504051567214e-09\n",
      "2.8156744935614597e-08\n"
     ]
    }
   ],
   "source": [
    "for k in range(8):\n",
    "    print(np.min(Fids[1,k,:]))"
   ]
  },
  {
   "cell_type": "code",
   "execution_count": 74,
   "metadata": {},
   "outputs": [
    {
     "data": {
      "text/plain": [
       "array([[3.36619621e-12]])"
      ]
     },
     "execution_count": 74,
     "metadata": {},
     "output_type": "execute_result"
    }
   ],
   "source": [
    "contraejemplos[3,2]"
   ]
  },
  {
   "cell_type": "code",
   "execution_count": 75,
   "metadata": {},
   "outputs": [
    {
     "data": {
      "text/plain": [
       "array([4.35137579e-08, 2.81567449e-08, 3.46371291e-08, 2.96424518e-08, 3.93145786e-08, 5.30666251e-08,\n",
       "       5.18803085e-08, 3.70629197e-08, 4.40645280e-08, 4.02838058e-08])"
      ]
     },
     "execution_count": 75,
     "metadata": {},
     "output_type": "execute_result"
    }
   ],
   "source": [
    "Fids[1,7,:]"
   ]
  },
  {
   "cell_type": "code",
   "execution_count": null,
   "metadata": {},
   "outputs": [],
   "source": [
    "PUMIOpt(U,dim,dim,QuantumFourier(dim),1)"
   ]
  }
 ],
 "metadata": {
  "kernelspec": {
   "display_name": "Python 3",
   "language": "python",
   "name": "python3"
  },
  "language_info": {
   "codemirror_mode": {
    "name": "ipython",
    "version": 3
   },
   "file_extension": ".py",
   "mimetype": "text/x-python",
   "name": "python",
   "nbconvert_exporter": "python",
   "pygments_lexer": "ipython3",
   "version": "3.7.4"
  }
 },
 "nbformat": 4,
 "nbformat_minor": 4
}
