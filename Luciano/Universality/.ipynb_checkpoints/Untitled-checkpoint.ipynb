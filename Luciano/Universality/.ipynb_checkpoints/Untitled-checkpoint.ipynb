{
 "cells": [
  {
   "cell_type": "code",
   "execution_count": 1,
   "metadata": {},
   "outputs": [],
   "source": [
    "import scipy.optimize as so\n",
    "import numpy as np\n",
    "import h5py as h5\n",
    "import scipy.linalg as la\n",
    "np.set_printoptions(linewidth=110)\n",
    "%matplotlib inline"
   ]
  },
  {
   "cell_type": "code",
   "execution_count": 2,
   "metadata": {},
   "outputs": [],
   "source": [
    "def UFid(U,V,Dim):\n",
    "#    return np.sum(abs(U-V)**2)\n",
    "    return abs(np.trace(np.matmul(U.conj().T,V))/Dim)**2"
   ]
  },
  {
   "cell_type": "code",
   "execution_count": 3,
   "metadata": {},
   "outputs": [],
   "source": [
    "def QuantumFourier(Dim): \n",
    "    pi=np.arccos(-1.)\n",
    "    x=np.array(range(Dim))\n",
    "    return np.exp( 1j*2*pi*np.reshape( np.kron(x,x), [Dim,Dim] )/Dim )/np.sqrt(Dim)"
   ]
  },
  {
   "cell_type": "code",
   "execution_count": 4,
   "metadata": {},
   "outputs": [],
   "source": [
    "def RandomUnitary(Dim):\n",
    "    return np.linalg.qr( np.random.randn(Dim,Dim)+1j*np.random.randn(Dim,Dim) )[0]"
   ]
  },
  {
   "cell_type": "code",
   "execution_count": 5,
   "metadata": {},
   "outputs": [],
   "source": [
    "def UFunction(Phase,N,F,Dim):\n",
    "    U=np.eye(Dim)\n",
    "    for k in range(N):\n",
    "        U= np.exp( 1j*np.append([0] ,Phase[k*(Dim-1):(k+1)*(Dim-1)] ) )[:,np.newaxis]*U\n",
    "        U=np.matmul(F,U)\n",
    "    return np.exp(1j*np.append( [0], Phase[N*(Dim-1):(N+1)*Dim-1]))[:,np.newaxis]*U"
   ]
  },
  {
   "cell_type": "code",
   "execution_count": 6,
   "metadata": {},
   "outputs": [],
   "source": [
    "def PUMIOpt(U,Dim,N,F,MC):\n",
    "    Seed = np.ones( (N+1)*(Dim-1) )\n",
    "    TargetOpt = lambda x: 1-UFid( U , UFunction( x , N , F , Dim ) , Dim )\n",
    "    argsmin = {\"method\": \"L-BFGS-B\"}\n",
    "    Funs = np.zeros(MC)\n",
    "    for k in range(MC):\n",
    "        Res=so.basinhopping(TargetOpt , Seed,minimizer_kwargs=argsmin,niter=100,niter_success=10,disp=False,T=0.5, stepsize=0.5*np.pi)\n",
    "        Funs[k] = Res.fun\n",
    "    return np.min(Funs)"
   ]
  },
  {
   "cell_type": "code",
   "execution_count": 7,
   "metadata": {},
   "outputs": [],
   "source": [
    "# MC = 1000\n",
    "# Dim = 3\n",
    "# file = h5.File(\"Data_D\"+str(Dim)+\".h5\",\"w\")\n",
    "# U = np.zeros([Dim,Dim,MC],dtype=complex)\n",
    "# for k in range(MC):\n",
    "#     U[:,:,k] = RandomUnitary(Dim)    \n",
    "# file[\"re\"] = np.real(U)\n",
    "# file[\"im\"] = np.imag(U)\n",
    "# file[\"MC\"] = [MC]\n",
    "# file[\"Dim\"] = [Dim]\n",
    "# file.close()"
   ]
  },
  {
   "cell_type": "code",
   "execution_count": 8,
   "metadata": {},
   "outputs": [],
   "source": [
    "def main(Name,Repe):\n",
    "\n",
    "    file = h5.File(Name,\"r\")\n",
    "    UU = file[\"re\"][:,:,:]+1j*file[\"im\"][:,:,:]\n",
    "    MC = file[\"MC\"][0]\n",
    "    Dim = file[\"Dim\"][0]\n",
    "    file.close()\n",
    "    \n",
    "    N = Dim \n",
    "    F = QuantumFourier(Dim)\n",
    "    Data = np.zeros(MC)\n",
    "    \n",
    "    for i in range(MC):\n",
    "        Data[i] = PUMIOpt(UU[:,:,i], Dim, N, F, Repe)\n",
    "    \n",
    "    Indx1 = np.where(Data>10**(-9))\n",
    "    Indx2 = np.where(Data<10**(-9))\n",
    "\n",
    "    file = h5.File(Name,\"w\")\n",
    "    file[\"Infidelity\"] = Data\n",
    "    file[\"Index1\"] = Indx1[0]\n",
    "    file[\"Index2\"] = Indx2[0]\n",
    "    file.close()\n",
    "    "
   ]
  },
  {
   "cell_type": "code",
   "execution_count": null,
   "metadata": {},
   "outputs": [],
   "source": [
    "main(\"Data_D3.h5\",10)"
   ]
  },
  {
   "cell_type": "code",
   "execution_count": 47,
   "metadata": {},
   "outputs": [
    {
     "ename": "KeyError",
     "evalue": "\"Unable to open object (object 're' doesn't exist)\"",
     "output_type": "error",
     "traceback": [
      "\u001b[1;31m---------------------------------------------------------------------------\u001b[0m",
      "\u001b[1;31mKeyError\u001b[0m                                  Traceback (most recent call last)",
      "\u001b[1;32m<ipython-input-47-77a06caea33b>\u001b[0m in \u001b[0;36m<module>\u001b[1;34m\u001b[0m\n\u001b[0;32m      1\u001b[0m \u001b[0mfile\u001b[0m \u001b[1;33m=\u001b[0m \u001b[0mh5\u001b[0m\u001b[1;33m.\u001b[0m\u001b[0mFile\u001b[0m\u001b[1;33m(\u001b[0m\u001b[1;34m\"Data_D3.h5\"\u001b[0m\u001b[1;33m,\u001b[0m\u001b[1;34m\"r\"\u001b[0m\u001b[1;33m)\u001b[0m\u001b[1;33m\u001b[0m\u001b[1;33m\u001b[0m\u001b[0m\n\u001b[1;32m----> 2\u001b[1;33m \u001b[0mUU\u001b[0m \u001b[1;33m=\u001b[0m \u001b[0mfile\u001b[0m\u001b[1;33m[\u001b[0m\u001b[1;34m\"re\"\u001b[0m\u001b[1;33m]\u001b[0m\u001b[1;33m[\u001b[0m\u001b[1;33m:\u001b[0m\u001b[1;33m,\u001b[0m\u001b[1;33m:\u001b[0m\u001b[1;33m,\u001b[0m\u001b[1;33m:\u001b[0m\u001b[1;33m]\u001b[0m\u001b[1;33m+\u001b[0m\u001b[1;36m1j\u001b[0m\u001b[1;33m*\u001b[0m\u001b[0mfile\u001b[0m\u001b[1;33m[\u001b[0m\u001b[1;34m\"im\"\u001b[0m\u001b[1;33m]\u001b[0m\u001b[1;33m[\u001b[0m\u001b[1;33m:\u001b[0m\u001b[1;33m,\u001b[0m\u001b[1;33m:\u001b[0m\u001b[1;33m,\u001b[0m\u001b[1;33m:\u001b[0m\u001b[1;33m]\u001b[0m\u001b[1;33m\u001b[0m\u001b[1;33m\u001b[0m\u001b[0m\n\u001b[0m\u001b[0;32m      3\u001b[0m \u001b[0mIndx1\u001b[0m \u001b[1;33m=\u001b[0m \u001b[0mfile\u001b[0m\u001b[1;33m[\u001b[0m\u001b[1;34m\"Index1\"\u001b[0m\u001b[1;33m]\u001b[0m\u001b[1;33m[\u001b[0m\u001b[1;33m:\u001b[0m\u001b[1;33m]\u001b[0m\u001b[1;33m\u001b[0m\u001b[1;33m\u001b[0m\u001b[0m\n\u001b[0;32m      4\u001b[0m \u001b[0mIndx2\u001b[0m \u001b[1;33m=\u001b[0m \u001b[0mfile\u001b[0m\u001b[1;33m[\u001b[0m\u001b[1;34m\"Index2\"\u001b[0m\u001b[1;33m]\u001b[0m\u001b[1;33m[\u001b[0m\u001b[1;33m:\u001b[0m\u001b[1;33m]\u001b[0m\u001b[1;33m\u001b[0m\u001b[1;33m\u001b[0m\u001b[0m\n\u001b[0;32m      5\u001b[0m \u001b[0mfile\u001b[0m\u001b[1;33m.\u001b[0m\u001b[0mclose\u001b[0m\u001b[1;33m(\u001b[0m\u001b[1;33m)\u001b[0m\u001b[1;33m\u001b[0m\u001b[1;33m\u001b[0m\u001b[0m\n",
      "\u001b[1;32mh5py\\_objects.pyx\u001b[0m in \u001b[0;36mh5py._objects.with_phil.wrapper\u001b[1;34m()\u001b[0m\n",
      "\u001b[1;32mh5py\\_objects.pyx\u001b[0m in \u001b[0;36mh5py._objects.with_phil.wrapper\u001b[1;34m()\u001b[0m\n",
      "\u001b[1;32m~\\Anaconda3\\lib\\site-packages\\h5py\\_hl\\group.py\u001b[0m in \u001b[0;36m__getitem__\u001b[1;34m(self, name)\u001b[0m\n\u001b[0;32m    260\u001b[0m                 \u001b[1;32mraise\u001b[0m \u001b[0mValueError\u001b[0m\u001b[1;33m(\u001b[0m\u001b[1;34m\"Invalid HDF5 object reference\"\u001b[0m\u001b[1;33m)\u001b[0m\u001b[1;33m\u001b[0m\u001b[1;33m\u001b[0m\u001b[0m\n\u001b[0;32m    261\u001b[0m         \u001b[1;32melse\u001b[0m\u001b[1;33m:\u001b[0m\u001b[1;33m\u001b[0m\u001b[1;33m\u001b[0m\u001b[0m\n\u001b[1;32m--> 262\u001b[1;33m             \u001b[0moid\u001b[0m \u001b[1;33m=\u001b[0m \u001b[0mh5o\u001b[0m\u001b[1;33m.\u001b[0m\u001b[0mopen\u001b[0m\u001b[1;33m(\u001b[0m\u001b[0mself\u001b[0m\u001b[1;33m.\u001b[0m\u001b[0mid\u001b[0m\u001b[1;33m,\u001b[0m \u001b[0mself\u001b[0m\u001b[1;33m.\u001b[0m\u001b[0m_e\u001b[0m\u001b[1;33m(\u001b[0m\u001b[0mname\u001b[0m\u001b[1;33m)\u001b[0m\u001b[1;33m,\u001b[0m \u001b[0mlapl\u001b[0m\u001b[1;33m=\u001b[0m\u001b[0mself\u001b[0m\u001b[1;33m.\u001b[0m\u001b[0m_lapl\u001b[0m\u001b[1;33m)\u001b[0m\u001b[1;33m\u001b[0m\u001b[1;33m\u001b[0m\u001b[0m\n\u001b[0m\u001b[0;32m    263\u001b[0m \u001b[1;33m\u001b[0m\u001b[0m\n\u001b[0;32m    264\u001b[0m         \u001b[0motype\u001b[0m \u001b[1;33m=\u001b[0m \u001b[0mh5i\u001b[0m\u001b[1;33m.\u001b[0m\u001b[0mget_type\u001b[0m\u001b[1;33m(\u001b[0m\u001b[0moid\u001b[0m\u001b[1;33m)\u001b[0m\u001b[1;33m\u001b[0m\u001b[1;33m\u001b[0m\u001b[0m\n",
      "\u001b[1;32mh5py\\_objects.pyx\u001b[0m in \u001b[0;36mh5py._objects.with_phil.wrapper\u001b[1;34m()\u001b[0m\n",
      "\u001b[1;32mh5py\\_objects.pyx\u001b[0m in \u001b[0;36mh5py._objects.with_phil.wrapper\u001b[1;34m()\u001b[0m\n",
      "\u001b[1;32mh5py\\h5o.pyx\u001b[0m in \u001b[0;36mh5py.h5o.open\u001b[1;34m()\u001b[0m\n",
      "\u001b[1;31mKeyError\u001b[0m: \"Unable to open object (object 're' doesn't exist)\""
     ]
    }
   ],
   "source": [
    "file = h5.File(\"Data_D3.h5\",\"r\")\n",
    "UU = file[\"re\"][:,:,:]+1j*file[\"im\"][:,:,:]\n",
    "Indx1 = file[\"Index1\"][:]\n",
    "Indx2 = file[\"Index2\"][:]\n",
    "file.close()"
   ]
  },
  {
   "cell_type": "code",
   "execution_count": 51,
   "metadata": {},
   "outputs": [],
   "source": [
    "len(Indx1)"
   ]
  },
  {
   "cell_type": "code",
   "execution_count": 35,
   "metadata": {},
   "outputs": [
    {
     "data": {
      "text/plain": [
       "848"
      ]
     },
     "execution_count": 35,
     "metadata": {},
     "output_type": "execute_result"
    }
   ],
   "source": [
    "len(Indx2)"
   ]
  },
  {
   "cell_type": "code",
   "execution_count": 17,
   "metadata": {},
   "outputs": [],
   "source": [
    "Dim = 4\n",
    "N = Dim\n",
    "F = QuantumFourier(Dim)\n",
    "u = la.block_diag(RandomUnitary(2),RandomUnitary(2))\n",
    "#u = RandomUnitary(Dim)"
   ]
  },
  {
   "cell_type": "code",
   "execution_count": 14,
   "metadata": {},
   "outputs": [
    {
     "name": "stdout",
     "output_type": "stream",
     "text": [
      "[[-0.17739254+0.39828146j  0.80552862+0.40128221j  0.        +0.j          0.        +0.j        ]\n",
      " [ 0.55294698+0.71003761j -0.35523174+0.25279763j  0.        +0.j          0.        +0.j        ]\n",
      " [ 0.        +0.j          0.        +0.j         -0.02460632+0.00178566j -0.4072814 +0.91296944j]\n",
      " [ 0.        +0.j          0.        +0.j          0.20026534+0.97943103j -0.02363831-0.0070633j ]]\n"
     ]
    }
   ],
   "source": [
    "print(u)"
   ]
  },
  {
   "cell_type": "code",
   "execution_count": 28,
   "metadata": {},
   "outputs": [
    {
     "name": "stdout",
     "output_type": "stream",
     "text": [
      "basinhopping step 0: f 1.05784e-05\n",
      "basinhopping step 1: f 1.05782e-05 trial_f 1.05782e-05 accepted 1  lowest_f 1.05782e-05\n",
      "found new global minimum on step 1 with function value 1.05782e-05\n",
      "basinhopping step 2: f 1.05768e-05 trial_f 1.05768e-05 accepted 1  lowest_f 1.05768e-05\n",
      "found new global minimum on step 2 with function value 1.05768e-05\n",
      "basinhopping step 3: f 1.05811e-05 trial_f 1.05811e-05 accepted 1  lowest_f 1.05768e-05\n",
      "basinhopping step 4: f 1.05821e-05 trial_f 1.05821e-05 accepted 1  lowest_f 1.05768e-05\n",
      "basinhopping step 5: f 1.08541e-05 trial_f 1.08541e-05 accepted 1  lowest_f 1.05768e-05\n",
      "basinhopping step 6: f 0.00957341 trial_f 0.00957341 accepted 1  lowest_f 1.05768e-05\n",
      "basinhopping step 7: f 5.69213e-10 trial_f 5.69213e-10 accepted 1  lowest_f 5.69213e-10\n",
      "found new global minimum on step 7 with function value 5.69213e-10\n",
      "basinhopping step 8: f 1.62181e-09 trial_f 1.62181e-09 accepted 1  lowest_f 5.69213e-10\n",
      "basinhopping step 9: f 1.05763e-05 trial_f 1.05763e-05 accepted 1  lowest_f 5.69213e-10\n",
      "basinhopping step 10: f 1.05804e-05 trial_f 1.05804e-05 accepted 1  lowest_f 5.69213e-10\n",
      "basinhopping step 11: f 1.05784e-05 trial_f 1.05784e-05 accepted 1  lowest_f 5.69213e-10\n",
      "basinhopping step 12: f 2.47515e-09 trial_f 2.47515e-09 accepted 1  lowest_f 5.69213e-10\n",
      "basinhopping step 13: f 1.05769e-05 trial_f 1.05769e-05 accepted 1  lowest_f 5.69213e-10\n",
      "basinhopping step 14: f 1.63748e-05 trial_f 1.63748e-05 accepted 1  lowest_f 5.69213e-10\n",
      "basinhopping step 15: f 1.05826e-05 trial_f 1.05826e-05 accepted 1  lowest_f 5.69213e-10\n",
      "basinhopping step 16: f 4.3786e-10 trial_f 4.3786e-10 accepted 1  lowest_f 4.3786e-10\n",
      "found new global minimum on step 16 with function value 4.3786e-10\n",
      "basinhopping step 17: f 0.000807937 trial_f 0.000807937 accepted 1  lowest_f 4.3786e-10\n",
      "basinhopping step 18: f 0.000807939 trial_f 0.000807939 accepted 1  lowest_f 4.3786e-10\n",
      "basinhopping step 19: f 0.00080794 trial_f 0.00080794 accepted 1  lowest_f 4.3786e-10\n",
      "basinhopping step 20: f 1.52329e-09 trial_f 1.52329e-09 accepted 1  lowest_f 4.3786e-10\n",
      "basinhopping step 21: f 1.05805e-05 trial_f 1.05805e-05 accepted 1  lowest_f 4.3786e-10\n",
      "basinhopping step 22: f 4.88154e-10 trial_f 4.88154e-10 accepted 1  lowest_f 4.3786e-10\n",
      "basinhopping step 23: f 1.27198e-05 trial_f 1.27198e-05 accepted 1  lowest_f 4.3786e-10\n",
      "basinhopping step 24: f 1.05764e-05 trial_f 1.05764e-05 accepted 1  lowest_f 4.3786e-10\n",
      "basinhopping step 25: f 0.00416475 trial_f 0.00416475 accepted 1  lowest_f 4.3786e-10\n",
      "basinhopping step 0: f 1.05784e-05\n",
      "basinhopping step 1: f 3.50273e-09 trial_f 3.50273e-09 accepted 1  lowest_f 3.50273e-09\n",
      "found new global minimum on step 1 with function value 3.50273e-09\n",
      "basinhopping step 2: f 1.38955e-08 trial_f 1.38955e-08 accepted 1  lowest_f 3.50273e-09\n",
      "basinhopping step 3: f 0.00211727 trial_f 0.00211727 accepted 1  lowest_f 3.50273e-09\n",
      "basinhopping step 4: f 0.00211727 trial_f 0.00211727 accepted 1  lowest_f 3.50273e-09\n",
      "basinhopping step 5: f 0.00211727 trial_f 0.00211727 accepted 1  lowest_f 3.50273e-09\n",
      "basinhopping step 6: f 1.27828e-09 trial_f 1.27828e-09 accepted 1  lowest_f 1.27828e-09\n",
      "found new global minimum on step 6 with function value 1.27828e-09\n",
      "basinhopping step 7: f 8.58143e-10 trial_f 8.58143e-10 accepted 1  lowest_f 8.58143e-10\n",
      "found new global minimum on step 7 with function value 8.58143e-10\n",
      "basinhopping step 8: f 1.56913e-09 trial_f 1.56913e-09 accepted 1  lowest_f 8.58143e-10\n",
      "basinhopping step 9: f 1.88868e-09 trial_f 1.88868e-09 accepted 1  lowest_f 8.58143e-10\n",
      "basinhopping step 10: f 1.46421e-09 trial_f 1.46421e-09 accepted 1  lowest_f 8.58143e-10\n",
      "basinhopping step 11: f 5.87447e-10 trial_f 5.87447e-10 accepted 1  lowest_f 5.87447e-10\n",
      "found new global minimum on step 11 with function value 5.87447e-10\n",
      "basinhopping step 12: f 0.000807937 trial_f 0.000807937 accepted 1  lowest_f 5.87447e-10\n",
      "basinhopping step 13: f 0.00957341 trial_f 0.00957341 accepted 1  lowest_f 5.87447e-10\n",
      "basinhopping step 14: f 6.92188e-10 trial_f 6.92188e-10 accepted 1  lowest_f 5.87447e-10\n",
      "basinhopping step 15: f 1.47639e-09 trial_f 1.47639e-09 accepted 1  lowest_f 5.87447e-10\n",
      "basinhopping step 16: f 3.62274e-10 trial_f 3.62274e-10 accepted 1  lowest_f 3.62274e-10\n",
      "found new global minimum on step 16 with function value 3.62274e-10\n",
      "basinhopping step 17: f 1.05799e-05 trial_f 1.05799e-05 accepted 1  lowest_f 3.62274e-10\n",
      "basinhopping step 18: f 2.54029e-10 trial_f 2.54029e-10 accepted 1  lowest_f 2.54029e-10\n",
      "found new global minimum on step 18 with function value 2.54029e-10\n",
      "basinhopping step 19: f 6.98614e-10 trial_f 6.98614e-10 accepted 1  lowest_f 2.54029e-10\n",
      "basinhopping step 20: f 1.00715e-09 trial_f 1.00715e-09 accepted 1  lowest_f 2.54029e-10\n",
      "basinhopping step 21: f 1.0577e-05 trial_f 1.0577e-05 accepted 1  lowest_f 2.54029e-10\n",
      "basinhopping step 22: f 4.07442e-09 trial_f 4.07442e-09 accepted 1  lowest_f 2.54029e-10\n",
      "basinhopping step 23: f 1.83564e-09 trial_f 1.83564e-09 accepted 1  lowest_f 2.54029e-10\n",
      "basinhopping step 24: f 0.00211727 trial_f 0.00211727 accepted 1  lowest_f 2.54029e-10\n",
      "basinhopping step 25: f 0.00211727 trial_f 0.00211727 accepted 1  lowest_f 2.54029e-10\n"
     ]
    },
    {
     "data": {
      "text/plain": [
       "2.540285759522476e-10"
      ]
     },
     "execution_count": 28,
     "metadata": {},
     "output_type": "execute_result"
    }
   ],
   "source": [
    "PUMIOpt(u,Dim,N,F,2)"
   ]
  },
  {
   "cell_type": "code",
   "execution_count": null,
   "metadata": {},
   "outputs": [],
   "source": []
  }
 ],
 "metadata": {
  "kernelspec": {
   "display_name": "Python 3",
   "language": "python",
   "name": "python3"
  },
  "language_info": {
   "codemirror_mode": {
    "name": "ipython",
    "version": 3
   },
   "file_extension": ".py",
   "mimetype": "text/x-python",
   "name": "python",
   "nbconvert_exporter": "python",
   "pygments_lexer": "ipython3",
   "version": "3.7.4"
  }
 },
 "nbformat": 4,
 "nbformat_minor": 4
}
