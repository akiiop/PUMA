{
 "cells": [
  {
   "cell_type": "code",
   "execution_count": 1,
   "id": "ac513d2a",
   "metadata": {},
   "outputs": [],
   "source": [
    "import numpy as np \n",
    "from scipy.io import loadmat\n",
    "import pandas as pd "
   ]
  },
  {
   "cell_type": "markdown",
   "id": "73feb014",
   "metadata": {},
   "source": [
    "This notebook compares the optimization of Fidelity with Julia Optim, Python BasinHopping, and Matlab GlobalSearch. We can see that Python BasinHopping and Matlab GlobalSearch deliver similar (or worse) results than Julia Optim. "
   ]
  },
  {
   "cell_type": "code",
   "execution_count": 2,
   "id": "d713f5c4",
   "metadata": {},
   "outputs": [],
   "source": [
    "data_python = np.load( 'julia_vs_python.npy' )\n",
    "data_matlab = loadmat( 'Julia_vs_matlab.mat' )['infids_comparison']"
   ]
  },
  {
   "cell_type": "code",
   "execution_count": 3,
   "id": "464d4a72",
   "metadata": {},
   "outputs": [],
   "source": [
    "data_dict = { 'Julia':data_python[:,0], 'Python':data_python[:,1], 'Matlab':data_matlab[:,1] }\n",
    "table = pd.DataFrame( data=data_dict )"
   ]
  },
  {
   "cell_type": "code",
   "execution_count": 4,
   "id": "5982c22e",
   "metadata": {},
   "outputs": [
    {
     "data": {
      "text/html": [
       "<div>\n",
       "<style scoped>\n",
       "    .dataframe tbody tr th:only-of-type {\n",
       "        vertical-align: middle;\n",
       "    }\n",
       "\n",
       "    .dataframe tbody tr th {\n",
       "        vertical-align: top;\n",
       "    }\n",
       "\n",
       "    .dataframe thead th {\n",
       "        text-align: right;\n",
       "    }\n",
       "</style>\n",
       "<table border=\"1\" class=\"dataframe\">\n",
       "  <thead>\n",
       "    <tr style=\"text-align: right;\">\n",
       "      <th></th>\n",
       "      <th>Julia</th>\n",
       "      <th>Python</th>\n",
       "      <th>Matlab</th>\n",
       "    </tr>\n",
       "  </thead>\n",
       "  <tbody>\n",
       "    <tr>\n",
       "      <th>0</th>\n",
       "      <td>4.969939e-02</td>\n",
       "      <td>4.969939e-02</td>\n",
       "      <td>1.621818e-02</td>\n",
       "    </tr>\n",
       "    <tr>\n",
       "      <th>1</th>\n",
       "      <td>1.056387e-01</td>\n",
       "      <td>1.056387e-01</td>\n",
       "      <td>1.866434e-02</td>\n",
       "    </tr>\n",
       "    <tr>\n",
       "      <th>2</th>\n",
       "      <td>3.530961e-03</td>\n",
       "      <td>3.530963e-03</td>\n",
       "      <td>1.866742e-04</td>\n",
       "    </tr>\n",
       "    <tr>\n",
       "      <th>3</th>\n",
       "      <td>1.671992e-05</td>\n",
       "      <td>4.302171e-06</td>\n",
       "      <td>6.898696e-06</td>\n",
       "    </tr>\n",
       "    <tr>\n",
       "      <th>4</th>\n",
       "      <td>5.945347e-06</td>\n",
       "      <td>8.497471e-07</td>\n",
       "      <td>3.590034e-05</td>\n",
       "    </tr>\n",
       "    <tr>\n",
       "      <th>5</th>\n",
       "      <td>5.380618e-06</td>\n",
       "      <td>9.372861e-08</td>\n",
       "      <td>3.150585e-07</td>\n",
       "    </tr>\n",
       "    <tr>\n",
       "      <th>6</th>\n",
       "      <td>1.922666e-06</td>\n",
       "      <td>4.167247e-06</td>\n",
       "      <td>1.013593e-06</td>\n",
       "    </tr>\n",
       "    <tr>\n",
       "      <th>7</th>\n",
       "      <td>9.374975e-07</td>\n",
       "      <td>3.786412e-05</td>\n",
       "      <td>8.122154e-07</td>\n",
       "    </tr>\n",
       "  </tbody>\n",
       "</table>\n",
       "</div>"
      ],
      "text/plain": [
       "          Julia        Python        Matlab\n",
       "0  4.969939e-02  4.969939e-02  1.621818e-02\n",
       "1  1.056387e-01  1.056387e-01  1.866434e-02\n",
       "2  3.530961e-03  3.530963e-03  1.866742e-04\n",
       "3  1.671992e-05  4.302171e-06  6.898696e-06\n",
       "4  5.945347e-06  8.497471e-07  3.590034e-05\n",
       "5  5.380618e-06  9.372861e-08  3.150585e-07\n",
       "6  1.922666e-06  4.167247e-06  1.013593e-06\n",
       "7  9.374975e-07  3.786412e-05  8.122154e-07"
      ]
     },
     "execution_count": 4,
     "metadata": {},
     "output_type": "execute_result"
    }
   ],
   "source": [
    "table"
   ]
  },
  {
   "cell_type": "code",
   "execution_count": null,
   "id": "1bc774de",
   "metadata": {},
   "outputs": [],
   "source": []
  }
 ],
 "metadata": {
  "kernelspec": {
   "display_name": "base",
   "language": "python",
   "name": "python3"
  },
  "language_info": {
   "codemirror_mode": {
    "name": "ipython",
    "version": 3
   },
   "file_extension": ".py",
   "mimetype": "text/x-python",
   "name": "python",
   "nbconvert_exporter": "python",
   "pygments_lexer": "ipython3",
   "version": "3.10.13"
  }
 },
 "nbformat": 4,
 "nbformat_minor": 5
}
