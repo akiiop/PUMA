{
 "cells": [
  {
   "cell_type": "code",

   "metadata": {},
   "outputs": [],
   "source": [
    "import scipy.optimize as so\n",
    "import numpy as np\n",
    "import h5py as h5\n",
    "    "
   ]
  },
  {
   "cell_type": "code",

   "metadata": {},
   "outputs": [],
   "source": [
    "def UFid(U,V,Dim):\n",
    "#    return np.sum(abs(U-V)**2)\n",
    "    return abs(np.trace(np.matmul(U.conj().T,V))/Dim)**2"
   ]
  },
  {
   "cell_type": "code",
   "metadata": {},
   "outputs": [],
   "source": [
    "def QuantumFourier(Dim): \n",
    "    pi=np.arccos(-1.)\n",
    "    x=np.array(range(Dim))\n",
    "    return np.exp( 1j*2*pi*np.reshape( np.kron(x,x), [Dim,Dim] )/Dim )/np.sqrt(Dim)"
   ]
  },
  {
   "cell_type": "code",
   "metadata": {},
   "outputs": [],
   "source": [
    "def RandomUnitary(Dim):\n",
    "    return np.linalg.qr( np.random.randn(Dim,Dim)+1j*np.random.randn(Dim,Dim) )[0]"
   ]
  },
  {
   "cell_type": "code",

    
   "metadata": {},
   "outputs": [],
   "source": [
    "def UFunction(Phase,N,F,Dim):\n",
    "    U=np.eye(Dim)\n",
    "    for k in range(N):\n",
    "        U= np.exp( 1j*np.append([0] ,Phase[k*(Dim-1):(k+1)*(Dim-1)] ) )[:,np.newaxis]*U\n",
    "        U=np.matmul(F,U)\n",
    "    return np.exp(1j*np.append( [0], Phase[N*(Dim-1):(N+1)*Dim-1]))[:,np.newaxis]*U"
   ]
  },
  {
   "cell_type": "code",
   "metadata": {},
   "outputs": [],
   "source": [
    "def PUMIOpt(F,Dim,N,U):\n",
    "    Seed = np.ones( (N+1)*(Dim-1) )\n",
    "    TargetOpt = lambda x: 1-UFid( U , UFunction( x , N , F , Dim ) , Dim )\n",
    "    argsmin = {\"method\": \"L-BFGS-B\"}\n",
    "    Res=so.basinhopping(\n",
    "        TargetOpt,\n",
    "        Seed,\n",
    "        minimizer_kwargs=argsmin,\n",
    "        niter=5*10**2,\n",
    "        disp=False,\n",
    "        )\n",
    "    return Res.fun"
   ]
  },
  {
   "cell_type": "code",
   "source": [
    "import pandas as pd\n",
    "from tqdm import tqdm\n",
    "\n",
    "worst_number = 100\n",
    "\n",
    "infids_julia = []\n",
    "\n",
    "infids_python = []\n",
    "\n",
    "for Dim in range(3,4):\n",
    "\n",
    "    L   = 0\n",
   ]
  },
  {
   "cell_type": "code",
   "execution_count": null,
   "metadata": {},
   "outputs": [],
   "source": []
  },
  {
   "cell_type": "code",
   "execution_count": 47,
   "metadata": {},
   "outputs": [],
   "source": [
    "def main():\n",
    "    Repe=100\n",
    "    Dim=4\n",
    "    N=Dim\n",
    "    \n",
    "    F = QuantumFourier(Dim)\n",
    "    file=h5.File(\"FFdataDim=4.h5\",\"r\") # Cambiar Nombre archivo \n",
    "    UU=file[\"re\"][:,:,:].T+1j*file[\"im\"][:,:,:].T\n",
    "    \n",
    "    ind2=file[\"Index\"][:]-1\n",
    "    MC=len(ind2)\n",
    "    file.close()\n",
    "    Data=np.zeros([MC,Repe])\n",
    "    l=np.where(Data[:,0]<1)\n",
    "    print(Dim,\"-----\",MC)\n",
    "    for j in range(Repe):\n",
    "        for i in range(MC):\n",
    "            Data[i,j]=PUMIOpt( F,Dim,N,UU[:,:,ind2[ l[0][i] ]] )\n",
    "        l2=np.where(Data[l,j]<10**(-10))\n",
    "        for h in range(np.size(l2[0])):\n",
    "            Data[l2[0][h],:]=Data[l2[0][h],j]\n",
    "        l=np.where(Data[:,j]>10**(-10))\n",
    "        MC=np.size(l[0])\n",
    "        print(j,\"-----\",np.size(l[0]))\n",
    "\n",
    "    file=h5.File(\"FFdataDim=4py.h5\",\"w\") #Cambiar nombre al archivo de salida\n",
    "    file[\"infi\"]=Data\n",
    "    file[\"index1\"]=l[0]\n",
    "    file[\"index2\"]=l2[0]\n",
    "    file.close()"
   ]
  }
 ],
 "metadata": {
  "kernelspec": {
   "display_name": "base",
   "language": "python",
   "name": "python3"
  },
  "language_info": {
   "codemirror_mode": {
    "name": "ipython",
    "version": 3
   },
   "file_extension": ".py",
   "mimetype": "text/x-python",
   "name": "python",
   "nbconvert_exporter": "python",
   "pygments_lexer": "ipython3",
   "version": "3.12.9"
  }
 },
 "nbformat": 4,
 "nbformat_minor": 4
}
