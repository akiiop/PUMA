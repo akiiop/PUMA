{
 "cells": [
  {
   "cell_type": "code",
   "execution_count": 2,
   "metadata": {},
   "outputs": [],
   "source": [
    "import scipy.optimize as so\n",
    "import numpy as np\n",
    "import h5py as h5\n",
    "    "
   ]
  },
  {
   "cell_type": "code",
   "execution_count": 3,
   "metadata": {},
   "outputs": [],
   "source": [
    "def UFid(U,V,Dim):\n",
    "#    return np.sum(abs(U-V)**2)\n",
    "    return abs(np.trace(np.matmul(U.conj().T,V))/Dim)**2"
   ]
  },
  {
   "cell_type": "code",
   "execution_count": 4,
   "metadata": {},
   "outputs": [],
   "source": [
    "def QuantumFourier(Dim): \n",
    "    pi=np.arccos(-1.)\n",
    "    x=np.array(range(Dim))\n",
    "    return np.exp( 1j*2*pi*np.reshape( np.kron(x,x), [Dim,Dim] )/Dim )/np.sqrt(Dim)"
   ]
  },
  {
   "cell_type": "code",
   "execution_count": 5,
   "metadata": {},
   "outputs": [],
   "source": [
    "def RandomUnitary(Dim):\n",
    "    return np.linalg.qr( np.random.randn(Dim,Dim)+1j*np.random.randn(Dim,Dim) )[0]"
   ]
  },
  {
   "cell_type": "code",
   "execution_count": 6,
   "metadata": {},
   "outputs": [],
   "source": [
    "def UFunction(Phase,N,F,Dim):\n",
    "    U=np.eye(Dim)\n",
    "    for k in range(N):\n",
    "        U= np.exp( 1j*np.append([0] ,Phase[k*(Dim-1):(k+1)*(Dim-1)] ) )[:,np.newaxis]*U\n",
    "        U=np.matmul(F,U)\n",
    "    return np.exp(1j*np.append( [0], Phase[N*(Dim-1):(N+1)*Dim-1]))[:,np.newaxis]*U"
   ]
  },
  {
   "cell_type": "code",
   "execution_count": 7,
   "metadata": {},
   "outputs": [],
   "source": [
    "def PUMIOpt(F,Dim,N,U):\n",
    "    Seed = np.ones( (N+1)*(Dim-1) )\n",
    "    TargetOpt = lambda x: 1-UFid( U , UFunction( x , N , F , Dim ) , Dim )\n",
    "    argsmin = {\"method\": \"L-BFGS-B\"}\n",
    "    Res=so.basinhopping(\n",
    "        TargetOpt,\n",
    "        Seed,\n",
    "        minimizer_kwargs=argsmin,\n",
    "        niter=5*10**2,\n",
    "        disp=False,\n",
    "        )\n",
    "    return Res.fun"
   ]
  },
  {
   "cell_type": "code",
   "execution_count": null,
   "metadata": {},
   "outputs": [
    {
     "name": "stderr",
     "output_type": "stream",
     "text": [
      "100%|██████████| 30/30 [04:31<00:00,  9.05s/it]\n",
      "100%|██████████| 30/30 [06:46<00:00, 13.54s/it]\n",
      "100%|██████████| 30/30 [04:27<00:00,  8.91s/it]\n",
      " 17%|█▋        | 5/30 [01:02<05:12, 12.51s/it]\n"
     ]
    },
    {
     "ename": "KeyboardInterrupt",
     "evalue": "",
     "output_type": "error",
     "traceback": [
      "\u001b[1;31m---------------------------------------------------------------------------\u001b[0m",
      "\u001b[1;31mKeyboardInterrupt\u001b[0m                         Traceback (most recent call last)",
      "Cell \u001b[1;32mIn[8], line 50\u001b[0m\n\u001b[0;32m     46\u001b[0m     Unitary \u001b[38;5;241m=\u001b[39m UU[ index, :,: ]\n\u001b[0;32m     48\u001b[0m     \u001b[38;5;28;01mfor\u001b[39;00m mc \u001b[38;5;129;01min\u001b[39;00m tqdm(\u001b[38;5;28mrange\u001b[39m(monte_carlo)):\n\u001b[1;32m---> 50\u001b[0m         infids_BH[i,mc] \u001b[38;5;241m=\u001b[39m PUMIOpt(\n\u001b[0;32m     51\u001b[0m             F \u001b[38;5;241m=\u001b[39m F, \u001b[38;5;66;03m#Fourier\u001b[39;00m\n\u001b[0;32m     52\u001b[0m             Dim\u001b[38;5;241m=\u001b[39mDim, \u001b[38;5;66;03m#Dimension\u001b[39;00m\n\u001b[0;32m     53\u001b[0m             N\u001b[38;5;241m=\u001b[39mDim \u001b[38;5;241m+\u001b[39m L,\u001b[38;5;66;03m#layers number\u001b[39;00m\n\u001b[0;32m     54\u001b[0m             U \u001b[38;5;241m=\u001b[39m Unitary, \u001b[38;5;66;03m#Target unitary\u001b[39;00m\n\u001b[0;32m     55\u001b[0m             )\n\u001b[0;32m     57\u001b[0m infids_BH \u001b[38;5;241m=\u001b[39m infids_BH\u001b[38;5;241m.\u001b[39mmean(axis\u001b[38;5;241m=\u001b[39m\u001b[38;5;241m1\u001b[39m)\n\u001b[0;32m     58\u001b[0m worst_table_BH \u001b[38;5;241m=\u001b[39m pd\u001b[38;5;241m.\u001b[39mDataFrame(\n\u001b[0;32m     59\u001b[0m     data \u001b[38;5;241m=\u001b[39m infids_BH,\n\u001b[0;32m     60\u001b[0m     columns\u001b[38;5;241m=\u001b[39m\u001b[38;5;124m\"\u001b[39m\u001b[38;5;124mInfidelities\u001b[39m\u001b[38;5;124m\"\u001b[39m,\n\u001b[0;32m     61\u001b[0m     index \u001b[38;5;241m=\u001b[39m worst_idx,\n\u001b[0;32m     62\u001b[0m )\n",
      "Cell \u001b[1;32mIn[7], line 5\u001b[0m, in \u001b[0;36mPUMIOpt\u001b[1;34m(F, Dim, N, U)\u001b[0m\n\u001b[0;32m      3\u001b[0m TargetOpt \u001b[38;5;241m=\u001b[39m \u001b[38;5;28;01mlambda\u001b[39;00m x: \u001b[38;5;241m1\u001b[39m\u001b[38;5;241m-\u001b[39mUFid( U , UFunction( x , N , F , Dim ) , Dim )\n\u001b[0;32m      4\u001b[0m argsmin \u001b[38;5;241m=\u001b[39m {\u001b[38;5;124m\"\u001b[39m\u001b[38;5;124mmethod\u001b[39m\u001b[38;5;124m\"\u001b[39m: \u001b[38;5;124m\"\u001b[39m\u001b[38;5;124mL-BFGS-B\u001b[39m\u001b[38;5;124m\"\u001b[39m}\n\u001b[1;32m----> 5\u001b[0m Res\u001b[38;5;241m=\u001b[39mso\u001b[38;5;241m.\u001b[39mbasinhopping(\n\u001b[0;32m      6\u001b[0m     TargetOpt,\n\u001b[0;32m      7\u001b[0m     Seed,\n\u001b[0;32m      8\u001b[0m     minimizer_kwargs\u001b[38;5;241m=\u001b[39margsmin,\n\u001b[0;32m      9\u001b[0m     niter\u001b[38;5;241m=\u001b[39m\u001b[38;5;241m5\u001b[39m\u001b[38;5;241m*\u001b[39m\u001b[38;5;241m10\u001b[39m\u001b[38;5;241m*\u001b[39m\u001b[38;5;241m*\u001b[39m\u001b[38;5;241m2\u001b[39m,\n\u001b[0;32m     10\u001b[0m     disp\u001b[38;5;241m=\u001b[39m\u001b[38;5;28;01mFalse\u001b[39;00m,\n\u001b[0;32m     11\u001b[0m     )\n\u001b[0;32m     12\u001b[0m \u001b[38;5;28;01mreturn\u001b[39;00m Res\u001b[38;5;241m.\u001b[39mfun\n",
      "File \u001b[1;32mc:\\Users\\rojas\\miniconda3\\Lib\\site-packages\\scipy\\_lib\\_util.py:440\u001b[0m, in \u001b[0;36m_transition_to_rng.<locals>.decorator.<locals>.wrapper\u001b[1;34m(*args, **kwargs)\u001b[0m\n\u001b[0;32m    433\u001b[0m     message \u001b[38;5;241m=\u001b[39m (\n\u001b[0;32m    434\u001b[0m         \u001b[38;5;124m\"\u001b[39m\u001b[38;5;124mThe NumPy global RNG was seeded by calling \u001b[39m\u001b[38;5;124m\"\u001b[39m\n\u001b[0;32m    435\u001b[0m         \u001b[38;5;124mf\u001b[39m\u001b[38;5;124m\"\u001b[39m\u001b[38;5;124m`np.random.seed`. Beginning in \u001b[39m\u001b[38;5;132;01m{\u001b[39;00mend_version\u001b[38;5;132;01m}\u001b[39;00m\u001b[38;5;124m, this \u001b[39m\u001b[38;5;124m\"\u001b[39m\n\u001b[0;32m    436\u001b[0m         \u001b[38;5;124m\"\u001b[39m\u001b[38;5;124mfunction will no longer use the global RNG.\u001b[39m\u001b[38;5;124m\"\u001b[39m\n\u001b[0;32m    437\u001b[0m     ) \u001b[38;5;241m+\u001b[39m cmn_msg\n\u001b[0;32m    438\u001b[0m     warnings\u001b[38;5;241m.\u001b[39mwarn(message, \u001b[38;5;167;01mFutureWarning\u001b[39;00m, stacklevel\u001b[38;5;241m=\u001b[39m\u001b[38;5;241m2\u001b[39m)\n\u001b[1;32m--> 440\u001b[0m \u001b[38;5;28;01mreturn\u001b[39;00m fun(\u001b[38;5;241m*\u001b[39margs, \u001b[38;5;241m*\u001b[39m\u001b[38;5;241m*\u001b[39mkwargs)\n",
      "File \u001b[1;32mc:\\Users\\rojas\\miniconda3\\Lib\\site-packages\\scipy\\optimize\\_basinhopping.py:709\u001b[0m, in \u001b[0;36mbasinhopping\u001b[1;34m(func, x0, niter, T, stepsize, minimizer_kwargs, take_step, accept_test, callback, interval, disp, niter_success, rng, target_accept_rate, stepwise_factor)\u001b[0m\n\u001b[0;32m    706\u001b[0m message \u001b[38;5;241m=\u001b[39m [\u001b[38;5;124m\"\u001b[39m\u001b[38;5;124mrequested number of basinhopping iterations completed\u001b[39m\u001b[38;5;124m\"\u001b[39m\n\u001b[0;32m    707\u001b[0m            \u001b[38;5;124m\"\u001b[39m\u001b[38;5;124m successfully\u001b[39m\u001b[38;5;124m\"\u001b[39m]\n\u001b[0;32m    708\u001b[0m \u001b[38;5;28;01mfor\u001b[39;00m i \u001b[38;5;129;01min\u001b[39;00m \u001b[38;5;28mrange\u001b[39m(niter):\n\u001b[1;32m--> 709\u001b[0m     new_global_min \u001b[38;5;241m=\u001b[39m bh\u001b[38;5;241m.\u001b[39mone_cycle()\n\u001b[0;32m    711\u001b[0m     \u001b[38;5;28;01mif\u001b[39;00m \u001b[38;5;28mcallable\u001b[39m(callback):\n\u001b[0;32m    712\u001b[0m         \u001b[38;5;66;03m# should we pass a copy of x?\u001b[39;00m\n\u001b[0;32m    713\u001b[0m         val \u001b[38;5;241m=\u001b[39m callback(bh\u001b[38;5;241m.\u001b[39mxtrial, bh\u001b[38;5;241m.\u001b[39menergy_trial, bh\u001b[38;5;241m.\u001b[39maccept)\n",
      "File \u001b[1;32mc:\\Users\\rojas\\miniconda3\\Lib\\site-packages\\scipy\\optimize\\_basinhopping.py:162\u001b[0m, in \u001b[0;36mBasinHoppingRunner.one_cycle\u001b[1;34m(self)\u001b[0m\n\u001b[0;32m    159\u001b[0m \u001b[38;5;28mself\u001b[39m\u001b[38;5;241m.\u001b[39mnstep \u001b[38;5;241m+\u001b[39m\u001b[38;5;241m=\u001b[39m \u001b[38;5;241m1\u001b[39m\n\u001b[0;32m    160\u001b[0m new_global_min \u001b[38;5;241m=\u001b[39m \u001b[38;5;28;01mFalse\u001b[39;00m\n\u001b[1;32m--> 162\u001b[0m accept, minres \u001b[38;5;241m=\u001b[39m \u001b[38;5;28mself\u001b[39m\u001b[38;5;241m.\u001b[39m_monte_carlo_step()\n\u001b[0;32m    164\u001b[0m \u001b[38;5;28;01mif\u001b[39;00m accept:\n\u001b[0;32m    165\u001b[0m     \u001b[38;5;28mself\u001b[39m\u001b[38;5;241m.\u001b[39menergy \u001b[38;5;241m=\u001b[39m minres\u001b[38;5;241m.\u001b[39mfun\n",
      "File \u001b[1;32mc:\\Users\\rojas\\miniconda3\\Lib\\site-packages\\scipy\\optimize\\_basinhopping.py:111\u001b[0m, in \u001b[0;36mBasinHoppingRunner._monte_carlo_step\u001b[1;34m(self)\u001b[0m\n\u001b[0;32m    108\u001b[0m x_after_step \u001b[38;5;241m=\u001b[39m \u001b[38;5;28mself\u001b[39m\u001b[38;5;241m.\u001b[39mstep_taking(x_after_step)\n\u001b[0;32m    110\u001b[0m \u001b[38;5;66;03m# do a local minimization\u001b[39;00m\n\u001b[1;32m--> 111\u001b[0m minres \u001b[38;5;241m=\u001b[39m \u001b[38;5;28mself\u001b[39m\u001b[38;5;241m.\u001b[39mminimizer(x_after_step)\n\u001b[0;32m    112\u001b[0m x_after_quench \u001b[38;5;241m=\u001b[39m minres\u001b[38;5;241m.\u001b[39mx\n\u001b[0;32m    113\u001b[0m energy_after_quench \u001b[38;5;241m=\u001b[39m minres\u001b[38;5;241m.\u001b[39mfun\n",
      "File \u001b[1;32mc:\\Users\\rojas\\miniconda3\\Lib\\site-packages\\scipy\\optimize\\_basinhopping.py:294\u001b[0m, in \u001b[0;36mMinimizerWrapper.__call__\u001b[1;34m(self, x0)\u001b[0m\n\u001b[0;32m    292\u001b[0m     \u001b[38;5;28;01mreturn\u001b[39;00m \u001b[38;5;28mself\u001b[39m\u001b[38;5;241m.\u001b[39mminimizer(x0, \u001b[38;5;241m*\u001b[39m\u001b[38;5;241m*\u001b[39m\u001b[38;5;28mself\u001b[39m\u001b[38;5;241m.\u001b[39mkwargs)\n\u001b[0;32m    293\u001b[0m \u001b[38;5;28;01melse\u001b[39;00m:\n\u001b[1;32m--> 294\u001b[0m     \u001b[38;5;28;01mreturn\u001b[39;00m \u001b[38;5;28mself\u001b[39m\u001b[38;5;241m.\u001b[39mminimizer(\u001b[38;5;28mself\u001b[39m\u001b[38;5;241m.\u001b[39mfunc, x0, \u001b[38;5;241m*\u001b[39m\u001b[38;5;241m*\u001b[39m\u001b[38;5;28mself\u001b[39m\u001b[38;5;241m.\u001b[39mkwargs)\n",
      "File \u001b[1;32mc:\\Users\\rojas\\miniconda3\\Lib\\site-packages\\scipy\\optimize\\_minimize.py:738\u001b[0m, in \u001b[0;36mminimize\u001b[1;34m(fun, x0, args, method, jac, hess, hessp, bounds, constraints, tol, callback, options)\u001b[0m\n\u001b[0;32m    735\u001b[0m     res \u001b[38;5;241m=\u001b[39m _minimize_newtoncg(fun, x0, args, jac, hess, hessp, callback,\n\u001b[0;32m    736\u001b[0m                              \u001b[38;5;241m*\u001b[39m\u001b[38;5;241m*\u001b[39moptions)\n\u001b[0;32m    737\u001b[0m \u001b[38;5;28;01melif\u001b[39;00m meth \u001b[38;5;241m==\u001b[39m \u001b[38;5;124m'\u001b[39m\u001b[38;5;124ml-bfgs-b\u001b[39m\u001b[38;5;124m'\u001b[39m:\n\u001b[1;32m--> 738\u001b[0m     res \u001b[38;5;241m=\u001b[39m _minimize_lbfgsb(fun, x0, args, jac, bounds,\n\u001b[0;32m    739\u001b[0m                            callback\u001b[38;5;241m=\u001b[39mcallback, \u001b[38;5;241m*\u001b[39m\u001b[38;5;241m*\u001b[39moptions)\n\u001b[0;32m    740\u001b[0m \u001b[38;5;28;01melif\u001b[39;00m meth \u001b[38;5;241m==\u001b[39m \u001b[38;5;124m'\u001b[39m\u001b[38;5;124mtnc\u001b[39m\u001b[38;5;124m'\u001b[39m:\n\u001b[0;32m    741\u001b[0m     res \u001b[38;5;241m=\u001b[39m _minimize_tnc(fun, x0, args, jac, bounds, callback\u001b[38;5;241m=\u001b[39mcallback,\n\u001b[0;32m    742\u001b[0m                         \u001b[38;5;241m*\u001b[39m\u001b[38;5;241m*\u001b[39moptions)\n",
      "File \u001b[1;32mc:\\Users\\rojas\\miniconda3\\Lib\\site-packages\\scipy\\optimize\\_lbfgsb_py.py:441\u001b[0m, in \u001b[0;36m_minimize_lbfgsb\u001b[1;34m(fun, x0, args, jac, bounds, disp, maxcor, ftol, gtol, eps, maxfun, maxiter, iprint, callback, maxls, finite_diff_rel_step, **unknown_options)\u001b[0m\n\u001b[0;32m    433\u001b[0m _lbfgsb\u001b[38;5;241m.\u001b[39msetulb(m, x, low_bnd, upper_bnd, nbd, f, g, factr, pgtol, wa,\n\u001b[0;32m    434\u001b[0m                iwa, task, lsave, isave, dsave, maxls, ln_task)\n\u001b[0;32m    436\u001b[0m \u001b[38;5;28;01mif\u001b[39;00m task[\u001b[38;5;241m0\u001b[39m] \u001b[38;5;241m==\u001b[39m \u001b[38;5;241m3\u001b[39m:\n\u001b[0;32m    437\u001b[0m     \u001b[38;5;66;03m# The minimization routine wants f and g at the current x.\u001b[39;00m\n\u001b[0;32m    438\u001b[0m     \u001b[38;5;66;03m# Note that interruptions due to maxfun are postponed\u001b[39;00m\n\u001b[0;32m    439\u001b[0m     \u001b[38;5;66;03m# until the completion of the current minimization iteration.\u001b[39;00m\n\u001b[0;32m    440\u001b[0m     \u001b[38;5;66;03m# Overwrite f and g:\u001b[39;00m\n\u001b[1;32m--> 441\u001b[0m     f, g \u001b[38;5;241m=\u001b[39m func_and_grad(x)\n\u001b[0;32m    442\u001b[0m \u001b[38;5;28;01melif\u001b[39;00m task[\u001b[38;5;241m0\u001b[39m] \u001b[38;5;241m==\u001b[39m \u001b[38;5;241m1\u001b[39m:\n\u001b[0;32m    443\u001b[0m     \u001b[38;5;66;03m# new iteration\u001b[39;00m\n\u001b[0;32m    444\u001b[0m     n_iterations \u001b[38;5;241m+\u001b[39m\u001b[38;5;241m=\u001b[39m \u001b[38;5;241m1\u001b[39m\n",
      "File \u001b[1;32mc:\\Users\\rojas\\miniconda3\\Lib\\site-packages\\scipy\\optimize\\_differentiable_functions.py:341\u001b[0m, in \u001b[0;36mScalarFunction.fun_and_grad\u001b[1;34m(self, x)\u001b[0m\n\u001b[0;32m    338\u001b[0m     \u001b[38;5;28mself\u001b[39m\u001b[38;5;241m.\u001b[39m_update_hess()\n\u001b[0;32m    339\u001b[0m     \u001b[38;5;28;01mreturn\u001b[39;00m \u001b[38;5;28mself\u001b[39m\u001b[38;5;241m.\u001b[39mH\n\u001b[1;32m--> 341\u001b[0m \u001b[38;5;28;01mdef\u001b[39;00m \u001b[38;5;21mfun_and_grad\u001b[39m(\u001b[38;5;28mself\u001b[39m, x):\n\u001b[0;32m    342\u001b[0m     \u001b[38;5;28;01mif\u001b[39;00m \u001b[38;5;129;01mnot\u001b[39;00m np\u001b[38;5;241m.\u001b[39marray_equal(x, \u001b[38;5;28mself\u001b[39m\u001b[38;5;241m.\u001b[39mx):\n\u001b[0;32m    343\u001b[0m         \u001b[38;5;28mself\u001b[39m\u001b[38;5;241m.\u001b[39m_update_x(x)\n",
      "\u001b[1;31mKeyboardInterrupt\u001b[0m: "
     ]
    }
   ],
   "source": [
    "import pandas as pd\n",
    "from tqdm import tqdm\n",
    "\n",
    "worst_number = 100\n",
    "\n",
    "infids_julia = []\n",
    "\n",
    "infids_python = []\n",
    "\n",
    "for Dim in range(3,4):\n",
    "\n",
    "    L   = 0\n",
    "    data_file = \"data/HaarDistributed_Dim=\"+str(Dim)+\"_Lay=Dim+\"+str(L)+\".h5\"\n",
    "\n",
    "    F = QuantumFourier(Dim)\n",
    "\n",
    "    with h5.File( data_file, \"r\" ) as file:\n",
    "\n",
    "        infids = file['infi'][:]\n",
    "    \n",
    "    monte_carlo = infids.shape[0]\n",
    "    infids_mean = infids.mean(axis=0)\n",
    "\n",
    "    df = pd.DataFrame(\n",
    "        data=infids_mean,\n",
    "        columns=[\"Infidelities\"], \n",
    "        )\n",
    "    \n",
    "\n",
    "    mask = df > 10**(-10)\n",
    "    worst_table = df[mask].dropna()\n",
    "\n",
    "    infids_julia.append( worst_table )\n",
    "\n",
    "    worst_idx = worst_table.index.to_list()\n",
    "\n",
    "    with h5.File( \"HaarUnitary.h5\", \"r\" ) as file:\n",
    "        \n",
    "        UU = file[\"unitarydim={}\".format(Dim)][:,:,:]\n",
    "\n",
    "    \n",
    "    infids_BH = np.zeros([len(worst_idx),monte_carlo])\n",
    "    \n",
    "    for i,index in tqdm(enumerate(worst_idx)):\n",
    "\n",
    "        Unitary = UU[ index, :,: ]\n",
    "\n",
    "        for mc in range(monte_carlo):\n",
    "\n",
    "            infids_BH[i,mc] = PUMIOpt(\n",
    "                F = F, #Fourier\n",
    "                Dim=Dim, #Dimension\n",
    "                N=Dim + L,#layers number\n",
    "                U = Unitary, #Target unitary\n",
    "                )\n",
    "            \n",
    "    infids_BH = infids_BH.mean(axis=1)\n",
    "    worst_table_BH = pd.DataFrame(\n",
    "        data = infids_BH,\n",
    "        columns=\"Infidelities\",\n",
    "        index = worst_idx,\n",
    "    )\n",
    "\n",
    "    infids_julia.append(worst_table_BH)\n"
   ]
  },
  {
   "cell_type": "code",
   "execution_count": 58,
   "metadata": {},
   "outputs": [
    {
     "data": {
      "text/plain": [
       "473"
      ]
     },
     "execution_count": 58,
     "metadata": {},
     "output_type": "execute_result"
    }
   ],
   "source": [
    "\n",
    "len(worst_idx)"
   ]
  },
  {
   "cell_type": "code",
   "execution_count": 91,
   "metadata": {},
   "outputs": [],
   "source": [
    "np.save( 'julia_vs_python', infids_comparison )"
   ]
  },
  {
   "cell_type": "code",
   "execution_count": null,
   "metadata": {},
   "outputs": [],
   "source": []
  },
  {
   "cell_type": "code",
   "execution_count": 47,
   "metadata": {},
   "outputs": [],
   "source": [
    "def main():\n",
    "    Repe=100\n",
    "    Dim=4\n",
    "    N=Dim\n",
    "    \n",
    "    F = QuantumFourier(Dim)\n",
    "    file=h5.File(\"FFdataDim=4.h5\",\"r\") # Cambiar Nombre archivo \n",
    "    UU=file[\"re\"][:,:,:].T+1j*file[\"im\"][:,:,:].T\n",
    "    \n",
    "    ind2=file[\"Index\"][:]-1\n",
    "    MC=len(ind2)\n",
    "    file.close()\n",
    "    Data=np.zeros([MC,Repe])\n",
    "    l=np.where(Data[:,0]<1)\n",
    "    print(Dim,\"-----\",MC)\n",
    "    for j in range(Repe):\n",
    "        for i in range(MC):\n",
    "            Data[i,j]=PUMIOpt( F,Dim,N,UU[:,:,ind2[ l[0][i] ]] )\n",
    "        l2=np.where(Data[l,j]<10**(-10))\n",
    "        for h in range(np.size(l2[0])):\n",
    "            Data[l2[0][h],:]=Data[l2[0][h],j]\n",
    "        l=np.where(Data[:,j]>10**(-10))\n",
    "        MC=np.size(l[0])\n",
    "        print(j,\"-----\",np.size(l[0]))\n",
    "\n",
    "    file=h5.File(\"FFdataDim=4py.h5\",\"w\") #Cambiar nombre al archivo de salida\n",
    "    file[\"infi\"]=Data\n",
    "    file[\"index1\"]=l[0]\n",
    "    file[\"index2\"]=l2[0]\n",
    "    file.close()"
   ]
  }
 ],
 "metadata": {
  "kernelspec": {
   "display_name": "base",
   "language": "python",
   "name": "python3"
  },
  "language_info": {
   "codemirror_mode": {
    "name": "ipython",
    "version": 3
   },
   "file_extension": ".py",
   "mimetype": "text/x-python",
   "name": "python",
   "nbconvert_exporter": "python",
   "pygments_lexer": "ipython3",
   "version": "3.12.9"
  }
 },
 "nbformat": 4,
 "nbformat_minor": 4
}
