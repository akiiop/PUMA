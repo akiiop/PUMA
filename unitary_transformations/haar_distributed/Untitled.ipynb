{
 "cells": [
  {
   "cell_type": "code",
   "execution_count": 1,
   "id": "c16c362a",
   "metadata": {},
   "outputs": [],
   "source": [
    "using HDF5"
   ]
  },
  {
   "cell_type": "code",
   "execution_count": 2,
   "id": "5e8497a6",
   "metadata": {},
   "outputs": [
    {
     "data": {
      "text/plain": [
       "🗂️ HDF5.File: (read-only) HaarUnitary.h5\n",
       "├─ 🔢 dimensions\n",
       "├─ 🔢 montecarlo\n",
       "├─ 🔢 unitarydim=10\n",
       "├─ 🔢 unitarydim=3\n",
       "├─ 🔢 unitarydim=4\n",
       "├─ 🔢 unitarydim=5\n",
       "├─ 🔢 unitarydim=6\n",
       "├─ 🔢 unitarydim=7\n",
       "├─ 🔢 unitarydim=8\n",
       "└─ 🔢 unitarydim=9"
      ]
     },
     "execution_count": 2,
     "metadata": {},
     "output_type": "execute_result"
    }
   ],
   "source": [
    "file = h5open(\"HaarUnitary.h5\",\"r\")"
   ]
  },
  {
   "cell_type": "code",
   "execution_count": 4,
   "id": "66a4bd48",
   "metadata": {},
   "outputs": [
    {
     "data": {
      "text/plain": [
       "50"
      ]
     },
     "execution_count": 4,
     "metadata": {},
     "output_type": "execute_result"
    }
   ],
   "source": [
    "file[\"montecarlo\"][1]"
   ]
  },
  {
   "cell_type": "code",
   "execution_count": 6,
   "id": "50579b8b",
   "metadata": {},
   "outputs": [
    {
     "data": {
      "text/plain": [
       "8-element Vector{Int64}:\n",
       "  3\n",
       "  4\n",
       "  5\n",
       "  6\n",
       "  7\n",
       "  8\n",
       "  9\n",
       " 10"
      ]
     },
     "execution_count": 6,
     "metadata": {},
     "output_type": "execute_result"
    }
   ],
   "source": [
    "file[\"dimensions\"][:]"
   ]
  },
  {
   "cell_type": "code",
   "execution_count": 8,
   "id": "b3f745c4",
   "metadata": {},
   "outputs": [
    {
     "data": {
      "text/plain": [
       "3×3×50 Array{ComplexF64, 3}:\n",
       "[:, :, 1] =\n",
       "   -0.74724-0.433651im   0.069562+0.0987205im    0.33097-0.359795im\n",
       " -0.0498387+0.203763im  -0.920038-0.10074im     0.308768-0.0635703im\n",
       "   0.163128-0.427744im  -0.249812-0.257665im   -0.626606-0.518645im\n",
       "\n",
       "[:, :, 2] =\n",
       " -0.153326-0.157741im     0.686369+0.316699im  -0.584967-0.194993im\n",
       " -0.935987+0.0958199im  -0.0665279+0.220792im     0.2296+0.094106im\n",
       "  0.181465+0.182829im     -0.19105+0.582173im  -0.241526+0.707025im\n",
       "\n",
       "[:, :, 3] =\n",
       " -0.192604-0.540949im    0.427239+0.638104im  -0.00204929-0.283837im\n",
       " 0.0388711+0.548358im   0.0430393+0.590557im      -0.4918+0.324523im\n",
       "  0.605837-0.0321141im    0.15844-0.18595im     -0.544126-0.525526im\n",
       "\n",
       ";;; … \n",
       "\n",
       "[:, :, 48] =\n",
       " -0.269652-0.770296im   -0.23494+0.474407im    -0.192287-0.129225im\n",
       "  0.397334+0.392539im  0.0927569+0.758373im    -0.203376-0.250886im\n",
       " -0.145194-0.029837im   0.274258-0.246556im  -0.00358366-0.91761im\n",
       "\n",
       "[:, :, 49] =\n",
       "  -0.552377-0.142355im    0.01908+0.262596im   0.091062+0.772659im\n",
       "  -0.513536+0.355577im  -0.655842+0.203315im  -0.160456-0.33561im\n",
       " -0.0661381+0.529232im  0.0587767-0.675099im   -0.38899+0.324056im\n",
       "\n",
       "[:, :, 50] =\n",
       " -0.286837-0.209098im   0.181606-0.270887im   0.131609+0.866211im\n",
       " -0.320938-0.391306im  -0.789603+0.316703im  -0.116046+0.0814837im\n",
       " -0.497845+0.608302im  -0.182374-0.369603im  -0.460003-0.0254731im"
      ]
     },
     "execution_count": 8,
     "metadata": {},
     "output_type": "execute_result"
    }
   ],
   "source": [
    "file[\"unitarydim=3\"][:,:,:]"
   ]
  },
  {
   "cell_type": "code",
   "execution_count": 10,
   "id": "ce1b745d",
   "metadata": {},
   "outputs": [],
   "source": [
    "close(file)"
   ]
  },
  {
   "cell_type": "code",
   "execution_count": 12,
   "id": "1a384ad9",
   "metadata": {},
   "outputs": [
    {
     "data": {
      "text/plain": [
       "11-element Vector{Int64}:\n",
       "  5\n",
       "  6\n",
       "  7\n",
       "  8\n",
       "  9\n",
       " 10\n",
       " 11\n",
       " 12\n",
       " 13\n",
       " 14\n",
       " 15"
      ]
     },
     "execution_count": 12,
     "metadata": {},
     "output_type": "execute_result"
    }
   ],
   "source": [
    "dims = collect(5:15)"
   ]
  },
  {
   "cell_type": "code",
   "execution_count": 22,
   "id": "723e8b16",
   "metadata": {},
   "outputs": [
    {
     "name": "stdout",
     "output_type": "stream",
     "text": [
      "(h, dim) = (1, 5)\n",
      "(h, dim) = (2, 6)\n",
      "(h, dim) = (3, 7)\n",
      "(h, dim) = (4, 8)\n",
      "(h, dim) = (5, 9)\n",
      "(h, dim) = (6, 10)\n",
      "(h, dim) = (7, 11)\n",
      "(h, dim) = (8, 12)\n",
      "(h, dim) = (9, 13)\n",
      "(h, dim) = (10, 14)\n",
      "(h, dim) = (11, 15)\n"
     ]
    }
   ],
   "source": [
    "for ( h, dim) in enumerate(dims)\n",
    "    @show h,dim\n",
    "end"
   ]
  },
  {
   "cell_type": "code",
   "execution_count": null,
   "id": "175cf902",
   "metadata": {},
   "outputs": [],
   "source": []
  }
 ],
 "metadata": {
  "kernelspec": {
   "display_name": "Julia 1.11.3",
   "language": "julia",
   "name": "julia-1.11"
  },
  "language_info": {
   "file_extension": ".jl",
   "mimetype": "application/julia",
   "name": "julia",
   "version": "1.11.3"
  }
 },
 "nbformat": 4,
 "nbformat_minor": 5
}
