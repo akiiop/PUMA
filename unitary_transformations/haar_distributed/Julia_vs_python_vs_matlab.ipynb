{
 "cells": [
  {
   "cell_type": "code",
   "execution_count": 1,
   "id": "ac513d2a",
   "metadata": {},
   "outputs": [],
   "source": [
    "import numpy as np \n",
    "from scipy.io import loadmat\n",
    "import pandas as pd "
   ]
  },
  {
   "cell_type": "code",
   "execution_count": 2,
   "id": "d713f5c4",
   "metadata": {},
   "outputs": [],
   "source": [
    "data_python = np.load( 'julia_vs_python.npy' )\n",
    "data_matlab = loadmat( 'Julia_vs_matlab.mat' )['infids_comparison']"
   ]
  },
  {
   "cell_type": "code",
   "execution_count": 3,
   "id": "464d4a72",
   "metadata": {},
   "outputs": [],
   "source": [
    "data_dict = { 'Julia':data_python[:,0], 'Python':data_python[:,1], 'Matlab':data_matlab[:,1] }\n",
    "table = pd.DataFrame( data=data_dict )"
   ]
  },
  {
   "cell_type": "code",
   "execution_count": 4,
   "id": "5982c22e",
   "metadata": {},
   "outputs": [
    {
     "data": {
      "text/html": [
       "<div>\n",
       "<style scoped>\n",
       "    .dataframe tbody tr th:only-of-type {\n",
       "        vertical-align: middle;\n",
       "    }\n",
       "\n",
       "    .dataframe tbody tr th {\n",
       "        vertical-align: top;\n",
       "    }\n",
       "\n",
       "    .dataframe thead th {\n",
       "        text-align: right;\n",
       "    }\n",
       "</style>\n",
       "<table border=\"1\" class=\"dataframe\">\n",
       "  <thead>\n",
       "    <tr style=\"text-align: right;\">\n",
       "      <th></th>\n",
       "      <th>Julia</th>\n",
       "      <th>Python</th>\n",
       "      <th>Matlab</th>\n",
       "    </tr>\n",
       "  </thead>\n",
       "  <tbody>\n",
       "    <tr>\n",
       "      <th>0</th>\n",
       "      <td>3.516989e-02</td>\n",
       "      <td>3.516989e-02</td>\n",
       "      <td>3.516989e-02</td>\n",
       "    </tr>\n",
       "    <tr>\n",
       "      <th>1</th>\n",
       "      <td>1.213515e-02</td>\n",
       "      <td>1.213515e-02</td>\n",
       "      <td>1.213515e-02</td>\n",
       "    </tr>\n",
       "    <tr>\n",
       "      <th>2</th>\n",
       "      <td>4.218847e-15</td>\n",
       "      <td>8.785601e-10</td>\n",
       "      <td>2.314149e-12</td>\n",
       "    </tr>\n",
       "    <tr>\n",
       "      <th>3</th>\n",
       "      <td>1.088019e-14</td>\n",
       "      <td>1.273079e-09</td>\n",
       "      <td>2.318707e-10</td>\n",
       "    </tr>\n",
       "    <tr>\n",
       "      <th>4</th>\n",
       "      <td>4.107825e-14</td>\n",
       "      <td>5.713934e-09</td>\n",
       "      <td>1.250309e-10</td>\n",
       "    </tr>\n",
       "    <tr>\n",
       "      <th>5</th>\n",
       "      <td>7.094325e-14</td>\n",
       "      <td>2.078653e-08</td>\n",
       "      <td>7.668366e-10</td>\n",
       "    </tr>\n",
       "    <tr>\n",
       "      <th>6</th>\n",
       "      <td>1.136868e-13</td>\n",
       "      <td>4.458803e-08</td>\n",
       "      <td>3.376875e-09</td>\n",
       "    </tr>\n",
       "    <tr>\n",
       "      <th>7</th>\n",
       "      <td>2.949863e-13</td>\n",
       "      <td>7.539672e-08</td>\n",
       "      <td>2.001295e-09</td>\n",
       "    </tr>\n",
       "  </tbody>\n",
       "</table>\n",
       "</div>"
      ],
      "text/plain": [
       "          Julia        Python        Matlab\n",
       "0  3.516989e-02  3.516989e-02  3.516989e-02\n",
       "1  1.213515e-02  1.213515e-02  1.213515e-02\n",
       "2  4.218847e-15  8.785601e-10  2.314149e-12\n",
       "3  1.088019e-14  1.273079e-09  2.318707e-10\n",
       "4  4.107825e-14  5.713934e-09  1.250309e-10\n",
       "5  7.094325e-14  2.078653e-08  7.668366e-10\n",
       "6  1.136868e-13  4.458803e-08  3.376875e-09\n",
       "7  2.949863e-13  7.539672e-08  2.001295e-09"
      ]
     },
     "execution_count": 4,
     "metadata": {},
     "output_type": "execute_result"
    }
   ],
   "source": [
    "table"
   ]
  },
  {
   "cell_type": "code",
   "execution_count": null,
   "id": "1bc774de",
   "metadata": {},
   "outputs": [],
   "source": []
  }
 ],
 "metadata": {
  "kernelspec": {
   "display_name": "base",
   "language": "python",
   "name": "python3"
  },
  "language_info": {
   "codemirror_mode": {
    "name": "ipython",
    "version": 3
   },
   "file_extension": ".py",
   "mimetype": "text/x-python",
   "name": "python",
   "nbconvert_exporter": "python",
   "pygments_lexer": "ipython3",
   "version": "3.10.13"
  }
 },
 "nbformat": 4,
 "nbformat_minor": 5
}
